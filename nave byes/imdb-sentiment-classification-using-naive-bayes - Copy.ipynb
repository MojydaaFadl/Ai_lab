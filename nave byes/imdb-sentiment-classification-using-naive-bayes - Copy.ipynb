{
 "cells": [
  {
   "cell_type": "code",
   "execution_count": 1,
   "id": "06cc3366",
   "metadata": {
    "execution": {
     "iopub.execute_input": "2022-07-04T00:12:01.018617Z",
     "iopub.status.busy": "2022-07-04T00:12:01.018186Z",
     "iopub.status.idle": "2022-07-04T00:12:01.029924Z",
     "shell.execute_reply": "2022-07-04T00:12:01.029140Z"
    },
    "papermill": {
     "duration": 0.029912,
     "end_time": "2022-07-04T00:12:01.032214",
     "exception": false,
     "start_time": "2022-07-04T00:12:01.002302",
     "status": "completed"
    },
    "tags": []
   },
   "outputs": [],
   "source": [
    "import pandas as pd"
   ]
  },
  {
   "cell_type": "code",
   "execution_count": 2,
   "id": "350d8e83",
   "metadata": {
    "execution": {
     "iopub.execute_input": "2022-07-04T00:12:01.064214Z",
     "iopub.status.busy": "2022-07-04T00:12:01.063527Z",
     "iopub.status.idle": "2022-07-04T00:12:02.582883Z",
     "shell.execute_reply": "2022-07-04T00:12:02.581803Z"
    },
    "papermill": {
     "duration": 1.538124,
     "end_time": "2022-07-04T00:12:02.585021",
     "exception": false,
     "start_time": "2022-07-04T00:12:01.046897",
     "status": "completed"
    },
    "tags": []
   },
   "outputs": [
    {
     "data": {
      "text/html": [
       "<div>\n",
       "<style scoped>\n",
       "    .dataframe tbody tr th:only-of-type {\n",
       "        vertical-align: middle;\n",
       "    }\n",
       "\n",
       "    .dataframe tbody tr th {\n",
       "        vertical-align: top;\n",
       "    }\n",
       "\n",
       "    .dataframe thead th {\n",
       "        text-align: right;\n",
       "    }\n",
       "</style>\n",
       "<table border=\"1\" class=\"dataframe\">\n",
       "  <thead>\n",
       "    <tr style=\"text-align: right;\">\n",
       "      <th></th>\n",
       "      <th>review</th>\n",
       "      <th>sentiment</th>\n",
       "    </tr>\n",
       "  </thead>\n",
       "  <tbody>\n",
       "    <tr>\n",
       "      <th>0</th>\n",
       "      <td>One of the other reviewers has mentioned that ...</td>\n",
       "      <td>positive</td>\n",
       "    </tr>\n",
       "    <tr>\n",
       "      <th>1</th>\n",
       "      <td>A wonderful little production. &lt;br /&gt;&lt;br /&gt;The...</td>\n",
       "      <td>positive</td>\n",
       "    </tr>\n",
       "    <tr>\n",
       "      <th>2</th>\n",
       "      <td>I thought this was a wonderful way to spend ti...</td>\n",
       "      <td>positive</td>\n",
       "    </tr>\n",
       "    <tr>\n",
       "      <th>3</th>\n",
       "      <td>Basically there's a family where a little boy ...</td>\n",
       "      <td>negative</td>\n",
       "    </tr>\n",
       "    <tr>\n",
       "      <th>4</th>\n",
       "      <td>Petter Mattei's \"Love in the Time of Money\" is...</td>\n",
       "      <td>positive</td>\n",
       "    </tr>\n",
       "  </tbody>\n",
       "</table>\n",
       "</div>"
      ],
      "text/plain": [
       "                                              review sentiment\n",
       "0  One of the other reviewers has mentioned that ...  positive\n",
       "1  A wonderful little production. <br /><br />The...  positive\n",
       "2  I thought this was a wonderful way to spend ti...  positive\n",
       "3  Basically there's a family where a little boy ...  negative\n",
       "4  Petter Mattei's \"Love in the Time of Money\" is...  positive"
      ]
     },
     "execution_count": 2,
     "metadata": {},
     "output_type": "execute_result"
    }
   ],
   "source": [
    "data = pd.read_csv('IMDB Dataset.csv')\n",
    "data.head()"
   ]
  },
  {
   "cell_type": "markdown",
   "id": "622104f0",
   "metadata": {
    "papermill": {
     "duration": 0.015391,
     "end_time": "2022-07-04T00:12:02.615521",
     "exception": false,
     "start_time": "2022-07-04T00:12:02.600130",
     "status": "completed"
    },
    "tags": []
   },
   "source": [
    "### Basic Statistics"
   ]
  },
  {
   "cell_type": "code",
   "execution_count": 3,
   "id": "dd282fb1",
   "metadata": {
    "execution": {
     "iopub.execute_input": "2022-07-04T00:12:02.647396Z",
     "iopub.status.busy": "2022-07-04T00:12:02.646689Z",
     "iopub.status.idle": "2022-07-04T00:12:02.651988Z",
     "shell.execute_reply": "2022-07-04T00:12:02.651168Z"
    },
    "papermill": {
     "duration": 0.023526,
     "end_time": "2022-07-04T00:12:02.653941",
     "exception": false,
     "start_time": "2022-07-04T00:12:02.630415",
     "status": "completed"
    },
    "tags": []
   },
   "outputs": [
    {
     "name": "stdout",
     "output_type": "stream",
     "text": [
      "Number of rows:  50000\n",
      "Number of columns:  2\n"
     ]
    }
   ],
   "source": [
    "print(\"Number of rows: \", data.shape[0])\n",
    "print(\"Number of columns: \", data.shape[1])"
   ]
  },
  {
   "cell_type": "code",
   "execution_count": 4,
   "id": "218b6009",
   "metadata": {
    "execution": {
     "iopub.execute_input": "2022-07-04T00:12:02.685800Z",
     "iopub.status.busy": "2022-07-04T00:12:02.684758Z",
     "iopub.status.idle": "2022-07-04T00:12:02.719833Z",
     "shell.execute_reply": "2022-07-04T00:12:02.718678Z"
    },
    "papermill": {
     "duration": 0.053755,
     "end_time": "2022-07-04T00:12:02.722447",
     "exception": false,
     "start_time": "2022-07-04T00:12:02.668692",
     "status": "completed"
    },
    "tags": []
   },
   "outputs": [
    {
     "name": "stdout",
     "output_type": "stream",
     "text": [
      "<class 'pandas.core.frame.DataFrame'>\n",
      "RangeIndex: 50000 entries, 0 to 49999\n",
      "Data columns (total 2 columns):\n",
      " #   Column     Non-Null Count  Dtype \n",
      "---  ------     --------------  ----- \n",
      " 0   review     50000 non-null  object\n",
      " 1   sentiment  50000 non-null  object\n",
      "dtypes: object(2)\n",
      "memory usage: 781.4+ KB\n"
     ]
    }
   ],
   "source": [
    "data.info()"
   ]
  },
  {
   "cell_type": "code",
   "execution_count": 5,
   "id": "52bab329",
   "metadata": {
    "execution": {
     "iopub.execute_input": "2022-07-04T00:12:02.754832Z",
     "iopub.status.busy": "2022-07-04T00:12:02.754218Z",
     "iopub.status.idle": "2022-07-04T00:12:02.768025Z",
     "shell.execute_reply": "2022-07-04T00:12:02.767250Z"
    },
    "papermill": {
     "duration": 0.032076,
     "end_time": "2022-07-04T00:12:02.770143",
     "exception": false,
     "start_time": "2022-07-04T00:12:02.738067",
     "status": "completed"
    },
    "tags": []
   },
   "outputs": [
    {
     "data": {
      "text/plain": [
       "positive    25000\n",
       "negative    25000\n",
       "Name: sentiment, dtype: int64"
      ]
     },
     "execution_count": 5,
     "metadata": {},
     "output_type": "execute_result"
    }
   ],
   "source": [
    "data.sentiment.value_counts()"
   ]
  },
  {
   "cell_type": "markdown",
   "id": "b9d5c413",
   "metadata": {
    "papermill": {
     "duration": 0.01485,
     "end_time": "2022-07-04T00:12:02.800455",
     "exception": false,
     "start_time": "2022-07-04T00:12:02.785605",
     "status": "completed"
    },
    "tags": []
   },
   "source": [
    "from the above, we can confirm that the data is equally partioned."
   ]
  },
  {
   "cell_type": "markdown",
   "id": "3ef227a5",
   "metadata": {
    "papermill": {
     "duration": 0.014519,
     "end_time": "2022-07-04T00:12:02.829881",
     "exception": false,
     "start_time": "2022-07-04T00:12:02.815362",
     "status": "completed"
    },
    "tags": []
   },
   "source": [
    "### Data Cleaning and preprocessing"
   ]
  },
  {
   "cell_type": "code",
   "execution_count": 6,
   "id": "e2ee0a23",
   "metadata": {
    "execution": {
     "iopub.execute_input": "2022-07-04T00:12:02.862410Z",
     "iopub.status.busy": "2022-07-04T00:12:02.861450Z",
     "iopub.status.idle": "2022-07-04T00:12:02.867874Z",
     "shell.execute_reply": "2022-07-04T00:12:02.867153Z"
    },
    "papermill": {
     "duration": 0.025093,
     "end_time": "2022-07-04T00:12:02.869881",
     "exception": false,
     "start_time": "2022-07-04T00:12:02.844788",
     "status": "completed"
    },
    "tags": []
   },
   "outputs": [
    {
     "data": {
      "text/plain": [
       "'A wonderful little production. <br /><br />The filming technique is very unassuming- very old-time-BBC fashion and gives a comforting, and sometimes discomforting, sense of realism to the entire piece. <br /><br />The actors are extremely well chosen- Michael Sheen not only \"has got all the polari\" but he has all the voices down pat too! You can truly see the seamless editing guided by the references to Williams\\' diary entries, not only is it well worth the watching but it is a terrificly written and performed piece. A masterful production about one of the great master\\'s of comedy and his life. <br /><br />The realism really comes home with the little things: the fantasy of the guard which, rather than use the traditional \\'dream\\' techniques remains solid then disappears. It plays on our knowledge and our senses, particularly with the scenes concerning Orton and Halliwell and the sets (particularly of their flat with Halliwell\\'s murals decorating every surface) are terribly well done.'"
      ]
     },
     "execution_count": 6,
     "metadata": {},
     "output_type": "execute_result"
    }
   ],
   "source": [
    "data['review'][1]"
   ]
  },
  {
   "cell_type": "markdown",
   "id": "337bd6cd",
   "metadata": {
    "papermill": {
     "duration": 0.01472,
     "end_time": "2022-07-04T00:12:02.899462",
     "exception": false,
     "start_time": "2022-07-04T00:12:02.884742",
     "status": "completed"
    },
    "tags": []
   },
   "source": [
    "In the above data we can see \\<br>\\ break tags. We need to remove them before using this data.  "
   ]
  },
  {
   "cell_type": "code",
   "execution_count": 7,
   "id": "b0a73a53",
   "metadata": {
    "execution": {
     "iopub.execute_input": "2022-07-04T00:12:02.931216Z",
     "iopub.status.busy": "2022-07-04T00:12:02.930805Z",
     "iopub.status.idle": "2022-07-04T00:12:03.127057Z",
     "shell.execute_reply": "2022-07-04T00:12:03.125962Z"
    },
    "papermill": {
     "duration": 0.214966,
     "end_time": "2022-07-04T00:12:03.129403",
     "exception": false,
     "start_time": "2022-07-04T00:12:02.914437",
     "status": "completed"
    },
    "tags": []
   },
   "outputs": [
    {
     "data": {
      "text/plain": [
       "'A wonderful little production. The filming technique is very unassuming- very old-time-BBC fashion and gives a comforting, and sometimes discomforting, sense of realism to the entire piece. The actors are extremely well chosen- Michael Sheen not only \"has got all the polari\" but he has all the voices down pat too! You can truly see the seamless editing guided by the references to Williams\\' diary entries, not only is it well worth the watching but it is a terrificly written and performed piece. A masterful production about one of the great master\\'s of comedy and his life. The realism really comes home with the little things: the fantasy of the guard which, rather than use the traditional \\'dream\\' techniques remains solid then disappears. It plays on our knowledge and our senses, particularly with the scenes concerning Orton and Halliwell and the sets (particularly of their flat with Halliwell\\'s murals decorating every surface) are terribly well done.'"
      ]
     },
     "execution_count": 7,
     "metadata": {},
     "output_type": "execute_result"
    }
   ],
   "source": [
    "from bs4 import BeautifulSoup\n",
    "cleantext = BeautifulSoup(data[\"review\"][1], 'lxml').text\n",
    "cleantext"
   ]
  },
  {
   "cell_type": "markdown",
   "id": "5047625b",
   "metadata": {
    "papermill": {
     "duration": 0.015912,
     "end_time": "2022-07-04T00:12:03.160578",
     "exception": false,
     "start_time": "2022-07-04T00:12:03.144666",
     "status": "completed"
    },
    "tags": []
   },
   "source": [
    "We need to remove the slash "
   ]
  },
  {
   "cell_type": "code",
   "execution_count": 8,
   "id": "028e10e0",
   "metadata": {
    "execution": {
     "iopub.execute_input": "2022-07-04T00:12:03.201650Z",
     "iopub.status.busy": "2022-07-04T00:12:03.201048Z",
     "iopub.status.idle": "2022-07-04T00:12:03.209730Z",
     "shell.execute_reply": "2022-07-04T00:12:03.208599Z"
    },
    "papermill": {
     "duration": 0.034491,
     "end_time": "2022-07-04T00:12:03.212060",
     "exception": false,
     "start_time": "2022-07-04T00:12:03.177569",
     "status": "completed"
    },
    "tags": []
   },
   "outputs": [
    {
     "data": {
      "text/plain": [
       "'A wonderful little production The filming technique is very unassuming very oldtimeBBC fashion and gives a comforting and sometimes discomforting sense of realism to the entire piece The actors are extremely well chosen Michael Sheen not only has got all the polari but he has all the voices down pat too You can truly see the seamless editing guided by the references to Williams diary entries not only is it well worth the watching but it is a terrificly written and performed piece A masterful production about one of the great masters of comedy and his life The realism really comes home with the little things the fantasy of the guard which rather than use the traditional dream techniques remains solid then disappears It plays on our knowledge and our senses particularly with the scenes concerning Orton and Halliwell and the sets particularly of their flat with Halliwells murals decorating every surface are terribly well done'"
      ]
     },
     "execution_count": 8,
     "metadata": {},
     "output_type": "execute_result"
    }
   ],
   "source": [
    "import re\n",
    "cleantext = re.sub(r'[^\\w\\s]', '', cleantext)\n",
    "cleantext"
   ]
  },
  {
   "cell_type": "code",
   "execution_count": 9,
   "id": "6678cf9a",
   "metadata": {
    "execution": {
     "iopub.execute_input": "2022-07-04T00:12:03.247551Z",
     "iopub.status.busy": "2022-07-04T00:12:03.246701Z",
     "iopub.status.idle": "2022-07-04T00:12:04.775088Z",
     "shell.execute_reply": "2022-07-04T00:12:04.774016Z"
    },
    "papermill": {
     "duration": 1.549315,
     "end_time": "2022-07-04T00:12:04.777822",
     "exception": false,
     "start_time": "2022-07-04T00:12:03.228507",
     "status": "completed"
    },
    "tags": []
   },
   "outputs": [],
   "source": [
    "import nltk\n",
    "from nltk.corpus import stopwords\n"
   ]
  },
  {
   "cell_type": "code",
   "execution_count": 10,
   "id": "5bddcf65",
   "metadata": {
    "execution": {
     "iopub.execute_input": "2022-07-04T00:12:04.812121Z",
     "iopub.status.busy": "2022-07-04T00:12:04.811313Z",
     "iopub.status.idle": "2022-07-04T00:12:04.957613Z",
     "shell.execute_reply": "2022-07-04T00:12:04.956073Z"
    },
    "papermill": {
     "duration": 0.165981,
     "end_time": "2022-07-04T00:12:04.960285",
     "exception": false,
     "start_time": "2022-07-04T00:12:04.794304",
     "status": "completed"
    },
    "tags": []
   },
   "outputs": [
    {
     "name": "stderr",
     "output_type": "stream",
     "text": [
      "[nltk_data] Error loading stopwords: <urlopen error [Errno 11001]\n",
      "[nltk_data]     getaddrinfo failed>\n"
     ]
    },
    {
     "ename": "LookupError",
     "evalue": "\n**********************************************************************\n  Resource \u001b[93mstopwords\u001b[0m not found.\n  Please use the NLTK Downloader to obtain the resource:\n\n  \u001b[31m>>> import nltk\n  >>> nltk.download('stopwords')\n  \u001b[0m\n  For more information see: https://www.nltk.org/data.html\n\n  Attempted to load \u001b[93mcorpora/stopwords\u001b[0m\n\n  Searched in:\n    - 'C:\\\\Users\\\\AMIZING/nltk_data'\n    - 'c:\\\\Users\\\\AMIZING\\\\anaconda3\\\\nltk_data'\n    - 'c:\\\\Users\\\\AMIZING\\\\anaconda3\\\\share\\\\nltk_data'\n    - 'c:\\\\Users\\\\AMIZING\\\\anaconda3\\\\lib\\\\nltk_data'\n    - 'C:\\\\Users\\\\AMIZING\\\\AppData\\\\Roaming\\\\nltk_data'\n    - 'C:\\\\nltk_data'\n    - 'D:\\\\nltk_data'\n    - 'E:\\\\nltk_data'\n**********************************************************************\n",
     "output_type": "error",
     "traceback": [
      "\u001b[1;31m---------------------------------------------------------------------------\u001b[0m",
      "\u001b[1;31mLookupError\u001b[0m                               Traceback (most recent call last)",
      "\u001b[1;32mc:\\Users\\AMIZING\\anaconda3\\lib\\site-packages\\nltk\\corpus\\util.py\u001b[0m in \u001b[0;36m__load\u001b[1;34m(self)\u001b[0m\n\u001b[0;32m     82\u001b[0m                 \u001b[1;32mtry\u001b[0m\u001b[1;33m:\u001b[0m\u001b[1;33m\u001b[0m\u001b[1;33m\u001b[0m\u001b[0m\n\u001b[1;32m---> 83\u001b[1;33m                     \u001b[0mroot\u001b[0m \u001b[1;33m=\u001b[0m \u001b[0mnltk\u001b[0m\u001b[1;33m.\u001b[0m\u001b[0mdata\u001b[0m\u001b[1;33m.\u001b[0m\u001b[0mfind\u001b[0m\u001b[1;33m(\u001b[0m\u001b[1;34m\"{}/{}\"\u001b[0m\u001b[1;33m.\u001b[0m\u001b[0mformat\u001b[0m\u001b[1;33m(\u001b[0m\u001b[0mself\u001b[0m\u001b[1;33m.\u001b[0m\u001b[0msubdir\u001b[0m\u001b[1;33m,\u001b[0m \u001b[0mzip_name\u001b[0m\u001b[1;33m)\u001b[0m\u001b[1;33m)\u001b[0m\u001b[1;33m\u001b[0m\u001b[1;33m\u001b[0m\u001b[0m\n\u001b[0m\u001b[0;32m     84\u001b[0m                 \u001b[1;32mexcept\u001b[0m \u001b[0mLookupError\u001b[0m\u001b[1;33m:\u001b[0m\u001b[1;33m\u001b[0m\u001b[1;33m\u001b[0m\u001b[0m\n",
      "\u001b[1;32mc:\\Users\\AMIZING\\anaconda3\\lib\\site-packages\\nltk\\data.py\u001b[0m in \u001b[0;36mfind\u001b[1;34m(resource_name, paths)\u001b[0m\n\u001b[0;32m    584\u001b[0m     \u001b[0mresource_not_found\u001b[0m \u001b[1;33m=\u001b[0m \u001b[1;34m\"\\n%s\\n%s\\n%s\\n\"\u001b[0m \u001b[1;33m%\u001b[0m \u001b[1;33m(\u001b[0m\u001b[0msep\u001b[0m\u001b[1;33m,\u001b[0m \u001b[0mmsg\u001b[0m\u001b[1;33m,\u001b[0m \u001b[0msep\u001b[0m\u001b[1;33m)\u001b[0m\u001b[1;33m\u001b[0m\u001b[1;33m\u001b[0m\u001b[0m\n\u001b[1;32m--> 585\u001b[1;33m     \u001b[1;32mraise\u001b[0m \u001b[0mLookupError\u001b[0m\u001b[1;33m(\u001b[0m\u001b[0mresource_not_found\u001b[0m\u001b[1;33m)\u001b[0m\u001b[1;33m\u001b[0m\u001b[1;33m\u001b[0m\u001b[0m\n\u001b[0m\u001b[0;32m    586\u001b[0m \u001b[1;33m\u001b[0m\u001b[0m\n",
      "\u001b[1;31mLookupError\u001b[0m: \n**********************************************************************\n  Resource \u001b[93mstopwords\u001b[0m not found.\n  Please use the NLTK Downloader to obtain the resource:\n\n  \u001b[31m>>> import nltk\n  >>> nltk.download('stopwords')\n  \u001b[0m\n  For more information see: https://www.nltk.org/data.html\n\n  Attempted to load \u001b[93mcorpora/stopwords.zip/stopwords/\u001b[0m\n\n  Searched in:\n    - 'C:\\\\Users\\\\AMIZING/nltk_data'\n    - 'c:\\\\Users\\\\AMIZING\\\\anaconda3\\\\nltk_data'\n    - 'c:\\\\Users\\\\AMIZING\\\\anaconda3\\\\share\\\\nltk_data'\n    - 'c:\\\\Users\\\\AMIZING\\\\anaconda3\\\\lib\\\\nltk_data'\n    - 'C:\\\\Users\\\\AMIZING\\\\AppData\\\\Roaming\\\\nltk_data'\n    - 'C:\\\\nltk_data'\n    - 'D:\\\\nltk_data'\n    - 'E:\\\\nltk_data'\n**********************************************************************\n",
      "\nDuring handling of the above exception, another exception occurred:\n",
      "\u001b[1;31mLookupError\u001b[0m                               Traceback (most recent call last)",
      "\u001b[1;32m<ipython-input-10-0bc0b4a8f441>\u001b[0m in \u001b[0;36m<module>\u001b[1;34m\u001b[0m\n\u001b[0;32m      1\u001b[0m \u001b[0mnltk\u001b[0m\u001b[1;33m.\u001b[0m\u001b[0mdownload\u001b[0m\u001b[1;33m(\u001b[0m\u001b[1;34m'stopwords'\u001b[0m\u001b[1;33m)\u001b[0m\u001b[1;33m\u001b[0m\u001b[1;33m\u001b[0m\u001b[0m\n\u001b[1;32m----> 2\u001b[1;33m \u001b[0mstopwords\u001b[0m\u001b[1;33m.\u001b[0m\u001b[0mwords\u001b[0m\u001b[1;33m(\u001b[0m\u001b[1;34m'english'\u001b[0m\u001b[1;33m)\u001b[0m\u001b[1;33m\u001b[0m\u001b[1;33m\u001b[0m\u001b[0m\n\u001b[0m",
      "\u001b[1;32mc:\\Users\\AMIZING\\anaconda3\\lib\\site-packages\\nltk\\corpus\\util.py\u001b[0m in \u001b[0;36m__getattr__\u001b[1;34m(self, attr)\u001b[0m\n\u001b[0;32m    118\u001b[0m             \u001b[1;32mraise\u001b[0m \u001b[0mAttributeError\u001b[0m\u001b[1;33m(\u001b[0m\u001b[1;34m\"LazyCorpusLoader object has no attribute '__bases__'\"\u001b[0m\u001b[1;33m)\u001b[0m\u001b[1;33m\u001b[0m\u001b[1;33m\u001b[0m\u001b[0m\n\u001b[0;32m    119\u001b[0m \u001b[1;33m\u001b[0m\u001b[0m\n\u001b[1;32m--> 120\u001b[1;33m         \u001b[0mself\u001b[0m\u001b[1;33m.\u001b[0m\u001b[0m__load\u001b[0m\u001b[1;33m(\u001b[0m\u001b[1;33m)\u001b[0m\u001b[1;33m\u001b[0m\u001b[1;33m\u001b[0m\u001b[0m\n\u001b[0m\u001b[0;32m    121\u001b[0m         \u001b[1;31m# This looks circular, but its not, since __load() changes our\u001b[0m\u001b[1;33m\u001b[0m\u001b[1;33m\u001b[0m\u001b[1;33m\u001b[0m\u001b[0m\n\u001b[0;32m    122\u001b[0m         \u001b[1;31m# __class__ to something new:\u001b[0m\u001b[1;33m\u001b[0m\u001b[1;33m\u001b[0m\u001b[1;33m\u001b[0m\u001b[0m\n",
      "\u001b[1;32mc:\\Users\\AMIZING\\anaconda3\\lib\\site-packages\\nltk\\corpus\\util.py\u001b[0m in \u001b[0;36m__load\u001b[1;34m(self)\u001b[0m\n\u001b[0;32m     83\u001b[0m                     \u001b[0mroot\u001b[0m \u001b[1;33m=\u001b[0m \u001b[0mnltk\u001b[0m\u001b[1;33m.\u001b[0m\u001b[0mdata\u001b[0m\u001b[1;33m.\u001b[0m\u001b[0mfind\u001b[0m\u001b[1;33m(\u001b[0m\u001b[1;34m\"{}/{}\"\u001b[0m\u001b[1;33m.\u001b[0m\u001b[0mformat\u001b[0m\u001b[1;33m(\u001b[0m\u001b[0mself\u001b[0m\u001b[1;33m.\u001b[0m\u001b[0msubdir\u001b[0m\u001b[1;33m,\u001b[0m \u001b[0mzip_name\u001b[0m\u001b[1;33m)\u001b[0m\u001b[1;33m)\u001b[0m\u001b[1;33m\u001b[0m\u001b[1;33m\u001b[0m\u001b[0m\n\u001b[0;32m     84\u001b[0m                 \u001b[1;32mexcept\u001b[0m \u001b[0mLookupError\u001b[0m\u001b[1;33m:\u001b[0m\u001b[1;33m\u001b[0m\u001b[1;33m\u001b[0m\u001b[0m\n\u001b[1;32m---> 85\u001b[1;33m                     \u001b[1;32mraise\u001b[0m \u001b[0me\u001b[0m\u001b[1;33m\u001b[0m\u001b[1;33m\u001b[0m\u001b[0m\n\u001b[0m\u001b[0;32m     86\u001b[0m \u001b[1;33m\u001b[0m\u001b[0m\n\u001b[0;32m     87\u001b[0m         \u001b[1;31m# Load the corpus.\u001b[0m\u001b[1;33m\u001b[0m\u001b[1;33m\u001b[0m\u001b[1;33m\u001b[0m\u001b[0m\n",
      "\u001b[1;32mc:\\Users\\AMIZING\\anaconda3\\lib\\site-packages\\nltk\\corpus\\util.py\u001b[0m in \u001b[0;36m__load\u001b[1;34m(self)\u001b[0m\n\u001b[0;32m     78\u001b[0m         \u001b[1;32melse\u001b[0m\u001b[1;33m:\u001b[0m\u001b[1;33m\u001b[0m\u001b[1;33m\u001b[0m\u001b[0m\n\u001b[0;32m     79\u001b[0m             \u001b[1;32mtry\u001b[0m\u001b[1;33m:\u001b[0m\u001b[1;33m\u001b[0m\u001b[1;33m\u001b[0m\u001b[0m\n\u001b[1;32m---> 80\u001b[1;33m                 \u001b[0mroot\u001b[0m \u001b[1;33m=\u001b[0m \u001b[0mnltk\u001b[0m\u001b[1;33m.\u001b[0m\u001b[0mdata\u001b[0m\u001b[1;33m.\u001b[0m\u001b[0mfind\u001b[0m\u001b[1;33m(\u001b[0m\u001b[1;34m\"{}/{}\"\u001b[0m\u001b[1;33m.\u001b[0m\u001b[0mformat\u001b[0m\u001b[1;33m(\u001b[0m\u001b[0mself\u001b[0m\u001b[1;33m.\u001b[0m\u001b[0msubdir\u001b[0m\u001b[1;33m,\u001b[0m \u001b[0mself\u001b[0m\u001b[1;33m.\u001b[0m\u001b[0m__name\u001b[0m\u001b[1;33m)\u001b[0m\u001b[1;33m)\u001b[0m\u001b[1;33m\u001b[0m\u001b[1;33m\u001b[0m\u001b[0m\n\u001b[0m\u001b[0;32m     81\u001b[0m             \u001b[1;32mexcept\u001b[0m \u001b[0mLookupError\u001b[0m \u001b[1;32mas\u001b[0m \u001b[0me\u001b[0m\u001b[1;33m:\u001b[0m\u001b[1;33m\u001b[0m\u001b[1;33m\u001b[0m\u001b[0m\n\u001b[0;32m     82\u001b[0m                 \u001b[1;32mtry\u001b[0m\u001b[1;33m:\u001b[0m\u001b[1;33m\u001b[0m\u001b[1;33m\u001b[0m\u001b[0m\n",
      "\u001b[1;32mc:\\Users\\AMIZING\\anaconda3\\lib\\site-packages\\nltk\\data.py\u001b[0m in \u001b[0;36mfind\u001b[1;34m(resource_name, paths)\u001b[0m\n\u001b[0;32m    583\u001b[0m     \u001b[0msep\u001b[0m \u001b[1;33m=\u001b[0m \u001b[1;34m\"*\"\u001b[0m \u001b[1;33m*\u001b[0m \u001b[1;36m70\u001b[0m\u001b[1;33m\u001b[0m\u001b[1;33m\u001b[0m\u001b[0m\n\u001b[0;32m    584\u001b[0m     \u001b[0mresource_not_found\u001b[0m \u001b[1;33m=\u001b[0m \u001b[1;34m\"\\n%s\\n%s\\n%s\\n\"\u001b[0m \u001b[1;33m%\u001b[0m \u001b[1;33m(\u001b[0m\u001b[0msep\u001b[0m\u001b[1;33m,\u001b[0m \u001b[0mmsg\u001b[0m\u001b[1;33m,\u001b[0m \u001b[0msep\u001b[0m\u001b[1;33m)\u001b[0m\u001b[1;33m\u001b[0m\u001b[1;33m\u001b[0m\u001b[0m\n\u001b[1;32m--> 585\u001b[1;33m     \u001b[1;32mraise\u001b[0m \u001b[0mLookupError\u001b[0m\u001b[1;33m(\u001b[0m\u001b[0mresource_not_found\u001b[0m\u001b[1;33m)\u001b[0m\u001b[1;33m\u001b[0m\u001b[1;33m\u001b[0m\u001b[0m\n\u001b[0m\u001b[0;32m    586\u001b[0m \u001b[1;33m\u001b[0m\u001b[0m\n\u001b[0;32m    587\u001b[0m \u001b[1;33m\u001b[0m\u001b[0m\n",
      "\u001b[1;31mLookupError\u001b[0m: \n**********************************************************************\n  Resource \u001b[93mstopwords\u001b[0m not found.\n  Please use the NLTK Downloader to obtain the resource:\n\n  \u001b[31m>>> import nltk\n  >>> nltk.download('stopwords')\n  \u001b[0m\n  For more information see: https://www.nltk.org/data.html\n\n  Attempted to load \u001b[93mcorpora/stopwords\u001b[0m\n\n  Searched in:\n    - 'C:\\\\Users\\\\AMIZING/nltk_data'\n    - 'c:\\\\Users\\\\AMIZING\\\\anaconda3\\\\nltk_data'\n    - 'c:\\\\Users\\\\AMIZING\\\\anaconda3\\\\share\\\\nltk_data'\n    - 'c:\\\\Users\\\\AMIZING\\\\anaconda3\\\\lib\\\\nltk_data'\n    - 'C:\\\\Users\\\\AMIZING\\\\AppData\\\\Roaming\\\\nltk_data'\n    - 'C:\\\\nltk_data'\n    - 'D:\\\\nltk_data'\n    - 'E:\\\\nltk_data'\n**********************************************************************\n"
     ]
    }
   ],
   "source": [
    "nltk.download('stopwords')\n",
    "stopwords.words('english')"
   ]
  },
  {
   "cell_type": "code",
   "execution_count": 16,
   "id": "db56398d",
   "metadata": {
    "execution": {
     "iopub.execute_input": "2022-07-04T00:12:04.994513Z",
     "iopub.status.busy": "2022-07-04T00:12:04.993609Z",
     "iopub.status.idle": "2022-07-04T00:12:05.000059Z",
     "shell.execute_reply": "2022-07-04T00:12:04.999202Z"
    },
    "papermill": {
     "duration": 0.025915,
     "end_time": "2022-07-04T00:12:05.002380",
     "exception": false,
     "start_time": "2022-07-04T00:12:04.976465",
     "status": "completed"
    },
    "tags": []
   },
   "outputs": [
    {
     "ename": "LookupError",
     "evalue": "\n**********************************************************************\n  Resource \u001b[93mstopwords\u001b[0m not found.\n  Please use the NLTK Downloader to obtain the resource:\n\n  \u001b[31m>>> import nltk\n  >>> nltk.download('stopwords')\n  \u001b[0m\n  For more information see: https://www.nltk.org/data.html\n\n  Attempted to load \u001b[93mcorpora/stopwords\u001b[0m\n\n  Searched in:\n    - 'C:\\\\Users\\\\AMIZING/nltk_data'\n    - 'c:\\\\Users\\\\AMIZING\\\\anaconda3\\\\nltk_data'\n    - 'c:\\\\Users\\\\AMIZING\\\\anaconda3\\\\share\\\\nltk_data'\n    - 'c:\\\\Users\\\\AMIZING\\\\anaconda3\\\\lib\\\\nltk_data'\n    - 'C:\\\\Users\\\\AMIZING\\\\AppData\\\\Roaming\\\\nltk_data'\n    - 'C:\\\\nltk_data'\n    - 'D:\\\\nltk_data'\n    - 'E:\\\\nltk_data'\n**********************************************************************\n",
     "output_type": "error",
     "traceback": [
      "\u001b[1;31m---------------------------------------------------------------------------\u001b[0m",
      "\u001b[1;31mLookupError\u001b[0m                               Traceback (most recent call last)",
      "\u001b[1;32mc:\\Users\\AMIZING\\anaconda3\\lib\\site-packages\\nltk\\corpus\\util.py\u001b[0m in \u001b[0;36m__load\u001b[1;34m(self)\u001b[0m\n\u001b[0;32m     82\u001b[0m                 \u001b[1;32mtry\u001b[0m\u001b[1;33m:\u001b[0m\u001b[1;33m\u001b[0m\u001b[1;33m\u001b[0m\u001b[0m\n\u001b[1;32m---> 83\u001b[1;33m                     \u001b[0mroot\u001b[0m \u001b[1;33m=\u001b[0m \u001b[0mnltk\u001b[0m\u001b[1;33m.\u001b[0m\u001b[0mdata\u001b[0m\u001b[1;33m.\u001b[0m\u001b[0mfind\u001b[0m\u001b[1;33m(\u001b[0m\u001b[1;34m\"{}/{}\"\u001b[0m\u001b[1;33m.\u001b[0m\u001b[0mformat\u001b[0m\u001b[1;33m(\u001b[0m\u001b[0mself\u001b[0m\u001b[1;33m.\u001b[0m\u001b[0msubdir\u001b[0m\u001b[1;33m,\u001b[0m \u001b[0mzip_name\u001b[0m\u001b[1;33m)\u001b[0m\u001b[1;33m)\u001b[0m\u001b[1;33m\u001b[0m\u001b[1;33m\u001b[0m\u001b[0m\n\u001b[0m\u001b[0;32m     84\u001b[0m                 \u001b[1;32mexcept\u001b[0m \u001b[0mLookupError\u001b[0m\u001b[1;33m:\u001b[0m\u001b[1;33m\u001b[0m\u001b[1;33m\u001b[0m\u001b[0m\n",
      "\u001b[1;32mc:\\Users\\AMIZING\\anaconda3\\lib\\site-packages\\nltk\\data.py\u001b[0m in \u001b[0;36mfind\u001b[1;34m(resource_name, paths)\u001b[0m\n\u001b[0;32m    584\u001b[0m     \u001b[0mresource_not_found\u001b[0m \u001b[1;33m=\u001b[0m \u001b[1;34m\"\\n%s\\n%s\\n%s\\n\"\u001b[0m \u001b[1;33m%\u001b[0m \u001b[1;33m(\u001b[0m\u001b[0msep\u001b[0m\u001b[1;33m,\u001b[0m \u001b[0mmsg\u001b[0m\u001b[1;33m,\u001b[0m \u001b[0msep\u001b[0m\u001b[1;33m)\u001b[0m\u001b[1;33m\u001b[0m\u001b[1;33m\u001b[0m\u001b[0m\n\u001b[1;32m--> 585\u001b[1;33m     \u001b[1;32mraise\u001b[0m \u001b[0mLookupError\u001b[0m\u001b[1;33m(\u001b[0m\u001b[0mresource_not_found\u001b[0m\u001b[1;33m)\u001b[0m\u001b[1;33m\u001b[0m\u001b[1;33m\u001b[0m\u001b[0m\n\u001b[0m\u001b[0;32m    586\u001b[0m \u001b[1;33m\u001b[0m\u001b[0m\n",
      "\u001b[1;31mLookupError\u001b[0m: \n**********************************************************************\n  Resource \u001b[93mstopwords\u001b[0m not found.\n  Please use the NLTK Downloader to obtain the resource:\n\n  \u001b[31m>>> import nltk\n  >>> nltk.download('stopwords')\n  \u001b[0m\n  For more information see: https://www.nltk.org/data.html\n\n  Attempted to load \u001b[93mcorpora/stopwords.zip/stopwords/\u001b[0m\n\n  Searched in:\n    - 'C:\\\\Users\\\\AMIZING/nltk_data'\n    - 'c:\\\\Users\\\\AMIZING\\\\anaconda3\\\\nltk_data'\n    - 'c:\\\\Users\\\\AMIZING\\\\anaconda3\\\\share\\\\nltk_data'\n    - 'c:\\\\Users\\\\AMIZING\\\\anaconda3\\\\lib\\\\nltk_data'\n    - 'C:\\\\Users\\\\AMIZING\\\\AppData\\\\Roaming\\\\nltk_data'\n    - 'C:\\\\nltk_data'\n    - 'D:\\\\nltk_data'\n    - 'E:\\\\nltk_data'\n**********************************************************************\n",
      "\nDuring handling of the above exception, another exception occurred:\n",
      "\u001b[1;31mLookupError\u001b[0m                               Traceback (most recent call last)",
      "\u001b[1;32m<ipython-input-16-dd5c129829c0>\u001b[0m in \u001b[0;36m<module>\u001b[1;34m\u001b[0m\n\u001b[0;32m      1\u001b[0m \u001b[0mtoken\u001b[0m \u001b[1;33m=\u001b[0m \u001b[0mcleantext\u001b[0m\u001b[1;33m.\u001b[0m\u001b[0mlower\u001b[0m\u001b[1;33m(\u001b[0m\u001b[1;33m)\u001b[0m\u001b[1;33m.\u001b[0m\u001b[0msplit\u001b[0m\u001b[1;33m(\u001b[0m\u001b[1;33m)\u001b[0m\u001b[1;33m\u001b[0m\u001b[1;33m\u001b[0m\u001b[0m\n\u001b[1;32m----> 2\u001b[1;33m \u001b[0mstopword\u001b[0m \u001b[1;33m=\u001b[0m \u001b[0mset\u001b[0m\u001b[1;33m(\u001b[0m\u001b[0mstopwords\u001b[0m\u001b[1;33m.\u001b[0m\u001b[0mwords\u001b[0m\u001b[1;33m(\u001b[0m\u001b[1;34m'english'\u001b[0m\u001b[1;33m)\u001b[0m\u001b[1;33m)\u001b[0m\u001b[1;33m\u001b[0m\u001b[1;33m\u001b[0m\u001b[0m\n\u001b[0m\u001b[0;32m      3\u001b[0m \u001b[0mtoken_list\u001b[0m \u001b[1;33m=\u001b[0m \u001b[1;33m[\u001b[0m \u001b[0mword\u001b[0m \u001b[1;32mfor\u001b[0m \u001b[0mword\u001b[0m \u001b[1;32min\u001b[0m \u001b[0mtoken\u001b[0m \u001b[1;32mif\u001b[0m \u001b[0mword\u001b[0m\u001b[1;33m.\u001b[0m\u001b[0mlower\u001b[0m\u001b[1;33m(\u001b[0m\u001b[1;33m)\u001b[0m \u001b[1;32mnot\u001b[0m \u001b[1;32min\u001b[0m \u001b[0mstopword\u001b[0m \u001b[1;33m]\u001b[0m\u001b[1;33m\u001b[0m\u001b[1;33m\u001b[0m\u001b[0m\n",
      "\u001b[1;32mc:\\Users\\AMIZING\\anaconda3\\lib\\site-packages\\nltk\\corpus\\util.py\u001b[0m in \u001b[0;36m__getattr__\u001b[1;34m(self, attr)\u001b[0m\n\u001b[0;32m    118\u001b[0m             \u001b[1;32mraise\u001b[0m \u001b[0mAttributeError\u001b[0m\u001b[1;33m(\u001b[0m\u001b[1;34m\"LazyCorpusLoader object has no attribute '__bases__'\"\u001b[0m\u001b[1;33m)\u001b[0m\u001b[1;33m\u001b[0m\u001b[1;33m\u001b[0m\u001b[0m\n\u001b[0;32m    119\u001b[0m \u001b[1;33m\u001b[0m\u001b[0m\n\u001b[1;32m--> 120\u001b[1;33m         \u001b[0mself\u001b[0m\u001b[1;33m.\u001b[0m\u001b[0m__load\u001b[0m\u001b[1;33m(\u001b[0m\u001b[1;33m)\u001b[0m\u001b[1;33m\u001b[0m\u001b[1;33m\u001b[0m\u001b[0m\n\u001b[0m\u001b[0;32m    121\u001b[0m         \u001b[1;31m# This looks circular, but its not, since __load() changes our\u001b[0m\u001b[1;33m\u001b[0m\u001b[1;33m\u001b[0m\u001b[1;33m\u001b[0m\u001b[0m\n\u001b[0;32m    122\u001b[0m         \u001b[1;31m# __class__ to something new:\u001b[0m\u001b[1;33m\u001b[0m\u001b[1;33m\u001b[0m\u001b[1;33m\u001b[0m\u001b[0m\n",
      "\u001b[1;32mc:\\Users\\AMIZING\\anaconda3\\lib\\site-packages\\nltk\\corpus\\util.py\u001b[0m in \u001b[0;36m__load\u001b[1;34m(self)\u001b[0m\n\u001b[0;32m     83\u001b[0m                     \u001b[0mroot\u001b[0m \u001b[1;33m=\u001b[0m \u001b[0mnltk\u001b[0m\u001b[1;33m.\u001b[0m\u001b[0mdata\u001b[0m\u001b[1;33m.\u001b[0m\u001b[0mfind\u001b[0m\u001b[1;33m(\u001b[0m\u001b[1;34m\"{}/{}\"\u001b[0m\u001b[1;33m.\u001b[0m\u001b[0mformat\u001b[0m\u001b[1;33m(\u001b[0m\u001b[0mself\u001b[0m\u001b[1;33m.\u001b[0m\u001b[0msubdir\u001b[0m\u001b[1;33m,\u001b[0m \u001b[0mzip_name\u001b[0m\u001b[1;33m)\u001b[0m\u001b[1;33m)\u001b[0m\u001b[1;33m\u001b[0m\u001b[1;33m\u001b[0m\u001b[0m\n\u001b[0;32m     84\u001b[0m                 \u001b[1;32mexcept\u001b[0m \u001b[0mLookupError\u001b[0m\u001b[1;33m:\u001b[0m\u001b[1;33m\u001b[0m\u001b[1;33m\u001b[0m\u001b[0m\n\u001b[1;32m---> 85\u001b[1;33m                     \u001b[1;32mraise\u001b[0m \u001b[0me\u001b[0m\u001b[1;33m\u001b[0m\u001b[1;33m\u001b[0m\u001b[0m\n\u001b[0m\u001b[0;32m     86\u001b[0m \u001b[1;33m\u001b[0m\u001b[0m\n\u001b[0;32m     87\u001b[0m         \u001b[1;31m# Load the corpus.\u001b[0m\u001b[1;33m\u001b[0m\u001b[1;33m\u001b[0m\u001b[1;33m\u001b[0m\u001b[0m\n",
      "\u001b[1;32mc:\\Users\\AMIZING\\anaconda3\\lib\\site-packages\\nltk\\corpus\\util.py\u001b[0m in \u001b[0;36m__load\u001b[1;34m(self)\u001b[0m\n\u001b[0;32m     78\u001b[0m         \u001b[1;32melse\u001b[0m\u001b[1;33m:\u001b[0m\u001b[1;33m\u001b[0m\u001b[1;33m\u001b[0m\u001b[0m\n\u001b[0;32m     79\u001b[0m             \u001b[1;32mtry\u001b[0m\u001b[1;33m:\u001b[0m\u001b[1;33m\u001b[0m\u001b[1;33m\u001b[0m\u001b[0m\n\u001b[1;32m---> 80\u001b[1;33m                 \u001b[0mroot\u001b[0m \u001b[1;33m=\u001b[0m \u001b[0mnltk\u001b[0m\u001b[1;33m.\u001b[0m\u001b[0mdata\u001b[0m\u001b[1;33m.\u001b[0m\u001b[0mfind\u001b[0m\u001b[1;33m(\u001b[0m\u001b[1;34m\"{}/{}\"\u001b[0m\u001b[1;33m.\u001b[0m\u001b[0mformat\u001b[0m\u001b[1;33m(\u001b[0m\u001b[0mself\u001b[0m\u001b[1;33m.\u001b[0m\u001b[0msubdir\u001b[0m\u001b[1;33m,\u001b[0m \u001b[0mself\u001b[0m\u001b[1;33m.\u001b[0m\u001b[0m__name\u001b[0m\u001b[1;33m)\u001b[0m\u001b[1;33m)\u001b[0m\u001b[1;33m\u001b[0m\u001b[1;33m\u001b[0m\u001b[0m\n\u001b[0m\u001b[0;32m     81\u001b[0m             \u001b[1;32mexcept\u001b[0m \u001b[0mLookupError\u001b[0m \u001b[1;32mas\u001b[0m \u001b[0me\u001b[0m\u001b[1;33m:\u001b[0m\u001b[1;33m\u001b[0m\u001b[1;33m\u001b[0m\u001b[0m\n\u001b[0;32m     82\u001b[0m                 \u001b[1;32mtry\u001b[0m\u001b[1;33m:\u001b[0m\u001b[1;33m\u001b[0m\u001b[1;33m\u001b[0m\u001b[0m\n",
      "\u001b[1;32mc:\\Users\\AMIZING\\anaconda3\\lib\\site-packages\\nltk\\data.py\u001b[0m in \u001b[0;36mfind\u001b[1;34m(resource_name, paths)\u001b[0m\n\u001b[0;32m    583\u001b[0m     \u001b[0msep\u001b[0m \u001b[1;33m=\u001b[0m \u001b[1;34m\"*\"\u001b[0m \u001b[1;33m*\u001b[0m \u001b[1;36m70\u001b[0m\u001b[1;33m\u001b[0m\u001b[1;33m\u001b[0m\u001b[0m\n\u001b[0;32m    584\u001b[0m     \u001b[0mresource_not_found\u001b[0m \u001b[1;33m=\u001b[0m \u001b[1;34m\"\\n%s\\n%s\\n%s\\n\"\u001b[0m \u001b[1;33m%\u001b[0m \u001b[1;33m(\u001b[0m\u001b[0msep\u001b[0m\u001b[1;33m,\u001b[0m \u001b[0mmsg\u001b[0m\u001b[1;33m,\u001b[0m \u001b[0msep\u001b[0m\u001b[1;33m)\u001b[0m\u001b[1;33m\u001b[0m\u001b[1;33m\u001b[0m\u001b[0m\n\u001b[1;32m--> 585\u001b[1;33m     \u001b[1;32mraise\u001b[0m \u001b[0mLookupError\u001b[0m\u001b[1;33m(\u001b[0m\u001b[0mresource_not_found\u001b[0m\u001b[1;33m)\u001b[0m\u001b[1;33m\u001b[0m\u001b[1;33m\u001b[0m\u001b[0m\n\u001b[0m\u001b[0;32m    586\u001b[0m \u001b[1;33m\u001b[0m\u001b[0m\n\u001b[0;32m    587\u001b[0m \u001b[1;33m\u001b[0m\u001b[0m\n",
      "\u001b[1;31mLookupError\u001b[0m: \n**********************************************************************\n  Resource \u001b[93mstopwords\u001b[0m not found.\n  Please use the NLTK Downloader to obtain the resource:\n\n  \u001b[31m>>> import nltk\n  >>> nltk.download('stopwords')\n  \u001b[0m\n  For more information see: https://www.nltk.org/data.html\n\n  Attempted to load \u001b[93mcorpora/stopwords\u001b[0m\n\n  Searched in:\n    - 'C:\\\\Users\\\\AMIZING/nltk_data'\n    - 'c:\\\\Users\\\\AMIZING\\\\anaconda3\\\\nltk_data'\n    - 'c:\\\\Users\\\\AMIZING\\\\anaconda3\\\\share\\\\nltk_data'\n    - 'c:\\\\Users\\\\AMIZING\\\\anaconda3\\\\lib\\\\nltk_data'\n    - 'C:\\\\Users\\\\AMIZING\\\\AppData\\\\Roaming\\\\nltk_data'\n    - 'C:\\\\nltk_data'\n    - 'D:\\\\nltk_data'\n    - 'E:\\\\nltk_data'\n**********************************************************************\n"
     ]
    }
   ],
   "source": [
    "token = cleantext.lower().split()\n",
    "stopword = set(stopwords.words('english'))\n",
    "token_list = [ word for word in token if word.lower() not in stopword ]"
   ]
  },
  {
   "cell_type": "code",
   "execution_count": 17,
   "id": "9a9f9e96",
   "metadata": {
    "execution": {
     "iopub.execute_input": "2022-07-04T00:12:05.035709Z",
     "iopub.status.busy": "2022-07-04T00:12:05.034916Z",
     "iopub.status.idle": "2022-07-04T00:12:05.041732Z",
     "shell.execute_reply": "2022-07-04T00:12:05.040911Z"
    },
    "papermill": {
     "duration": 0.025873,
     "end_time": "2022-07-04T00:12:05.043887",
     "exception": false,
     "start_time": "2022-07-04T00:12:05.018014",
     "status": "completed"
    },
    "tags": []
   },
   "outputs": [
    {
     "ename": "NameError",
     "evalue": "name 'token_list' is not defined",
     "output_type": "error",
     "traceback": [
      "\u001b[1;31m---------------------------------------------------------------------------\u001b[0m",
      "\u001b[1;31mNameError\u001b[0m                                 Traceback (most recent call last)",
      "\u001b[1;32m<ipython-input-17-4f34d9f4ce3f>\u001b[0m in \u001b[0;36m<module>\u001b[1;34m\u001b[0m\n\u001b[1;32m----> 1\u001b[1;33m \u001b[1;34m\" \"\u001b[0m\u001b[1;33m.\u001b[0m\u001b[0mjoin\u001b[0m\u001b[1;33m(\u001b[0m\u001b[0mtoken_list\u001b[0m\u001b[1;33m)\u001b[0m\u001b[1;33m\u001b[0m\u001b[1;33m\u001b[0m\u001b[0m\n\u001b[0m",
      "\u001b[1;31mNameError\u001b[0m: name 'token_list' is not defined"
     ]
    }
   ],
   "source": [
    "\" \".join(token_list)"
   ]
  },
  {
   "cell_type": "code",
   "execution_count": 11,
   "id": "31228ce6",
   "metadata": {
    "execution": {
     "iopub.execute_input": "2022-07-04T00:12:05.077857Z",
     "iopub.status.busy": "2022-07-04T00:12:05.077081Z",
     "iopub.status.idle": "2022-07-04T00:12:05.082211Z",
     "shell.execute_reply": "2022-07-04T00:12:05.081198Z"
    },
    "papermill": {
     "duration": 0.024945,
     "end_time": "2022-07-04T00:12:05.084476",
     "exception": false,
     "start_time": "2022-07-04T00:12:05.059531",
     "status": "completed"
    },
    "tags": []
   },
   "outputs": [],
   "source": [
    "from nltk.stem import WordNetLemmatizer"
   ]
  },
  {
   "cell_type": "code",
   "execution_count": 12,
   "id": "8b3755f4",
   "metadata": {
    "execution": {
     "iopub.execute_input": "2022-07-04T00:12:05.118940Z",
     "iopub.status.busy": "2022-07-04T00:12:05.118201Z",
     "iopub.status.idle": "2022-07-04T00:12:05.123096Z",
     "shell.execute_reply": "2022-07-04T00:12:05.122218Z"
    },
    "papermill": {
     "duration": 0.024975,
     "end_time": "2022-07-04T00:12:05.125387",
     "exception": false,
     "start_time": "2022-07-04T00:12:05.100412",
     "status": "completed"
    },
    "tags": []
   },
   "outputs": [],
   "source": [
    "lemmatizer = WordNetLemmatizer()"
   ]
  },
  {
   "cell_type": "code",
   "execution_count": 13,
   "id": "c672716d",
   "metadata": {
    "execution": {
     "iopub.execute_input": "2022-07-04T00:12:05.159676Z",
     "iopub.status.busy": "2022-07-04T00:12:05.158913Z",
     "iopub.status.idle": "2022-07-04T00:12:05.248704Z",
     "shell.execute_reply": "2022-07-04T00:12:05.247602Z"
    },
    "papermill": {
     "duration": 0.109505,
     "end_time": "2022-07-04T00:12:05.250993",
     "exception": false,
     "start_time": "2022-07-04T00:12:05.141488",
     "status": "completed"
    },
    "tags": []
   },
   "outputs": [
    {
     "name": "stderr",
     "output_type": "stream",
     "text": [
      "[nltk_data] Error loading wordnet: <urlopen error [Errno 11001]\n",
      "[nltk_data]     getaddrinfo failed>\n"
     ]
    },
    {
     "data": {
      "text/plain": [
       "False"
      ]
     },
     "execution_count": 13,
     "metadata": {},
     "output_type": "execute_result"
    }
   ],
   "source": [
    "nltk.download('wordnet')"
   ]
  },
  {
   "cell_type": "code",
   "execution_count": 18,
   "id": "b60f8477",
   "metadata": {
    "execution": {
     "iopub.execute_input": "2022-07-04T00:12:05.285226Z",
     "iopub.status.busy": "2022-07-04T00:12:05.284313Z",
     "iopub.status.idle": "2022-07-04T00:12:06.354914Z",
     "shell.execute_reply": "2022-07-04T00:12:06.353722Z"
    },
    "papermill": {
     "duration": 1.09009,
     "end_time": "2022-07-04T00:12:06.357289",
     "exception": false,
     "start_time": "2022-07-04T00:12:05.267199",
     "status": "completed"
    },
    "tags": []
   },
   "outputs": [
    {
     "name": "stderr",
     "output_type": "stream",
     "text": [
      "[nltk_data] Error loading omw-1.4: <urlopen error [Errno 11001]\n",
      "[nltk_data]     getaddrinfo failed>\n"
     ]
    },
    {
     "data": {
      "text/plain": [
       "False"
      ]
     },
     "execution_count": 18,
     "metadata": {},
     "output_type": "execute_result"
    }
   ],
   "source": [
    "nltk.download('omw-1.4')"
   ]
  },
  {
   "cell_type": "code",
   "execution_count": 19,
   "id": "d99258d1",
   "metadata": {
    "execution": {
     "iopub.execute_input": "2022-07-04T00:12:06.391229Z",
     "iopub.status.busy": "2022-07-04T00:12:06.390833Z",
     "iopub.status.idle": "2022-07-04T00:12:08.545379Z",
     "shell.execute_reply": "2022-07-04T00:12:08.544192Z"
    },
    "papermill": {
     "duration": 2.174264,
     "end_time": "2022-07-04T00:12:08.547796",
     "exception": false,
     "start_time": "2022-07-04T00:12:06.373532",
     "status": "completed"
    },
    "tags": []
   },
   "outputs": [
    {
     "ename": "NameError",
     "evalue": "name 'token_list' is not defined",
     "output_type": "error",
     "traceback": [
      "\u001b[1;31m---------------------------------------------------------------------------\u001b[0m",
      "\u001b[1;31mNameError\u001b[0m                                 Traceback (most recent call last)",
      "\u001b[1;32m<ipython-input-19-0ae5b961df96>\u001b[0m in \u001b[0;36m<module>\u001b[1;34m\u001b[0m\n\u001b[1;32m----> 1\u001b[1;33m \u001b[0mlemmatizer\u001b[0m\u001b[1;33m.\u001b[0m\u001b[0mlemmatize\u001b[0m\u001b[1;33m(\u001b[0m\u001b[1;34m\" \"\u001b[0m\u001b[1;33m.\u001b[0m\u001b[0mjoin\u001b[0m\u001b[1;33m(\u001b[0m\u001b[0mtoken_list\u001b[0m\u001b[1;33m)\u001b[0m\u001b[1;33m)\u001b[0m\u001b[1;33m\u001b[0m\u001b[1;33m\u001b[0m\u001b[0m\n\u001b[0m",
      "\u001b[1;31mNameError\u001b[0m: name 'token_list' is not defined"
     ]
    }
   ],
   "source": [
    "lemmatizer.lemmatize(\" \".join(token_list))"
   ]
  },
  {
   "cell_type": "code",
   "execution_count": 20,
   "id": "ba40231d",
   "metadata": {
    "execution": {
     "iopub.execute_input": "2022-07-04T00:12:08.582587Z",
     "iopub.status.busy": "2022-07-04T00:12:08.582217Z",
     "iopub.status.idle": "2022-07-04T00:12:08.589272Z",
     "shell.execute_reply": "2022-07-04T00:12:08.588117Z"
    },
    "papermill": {
     "duration": 0.02736,
     "end_time": "2022-07-04T00:12:08.591670",
     "exception": false,
     "start_time": "2022-07-04T00:12:08.564310",
     "status": "completed"
    },
    "tags": []
   },
   "outputs": [
    {
     "data": {
      "text/plain": [
       "Index(['review', 'sentiment'], dtype='object')"
      ]
     },
     "execution_count": 20,
     "metadata": {},
     "output_type": "execute_result"
    }
   ],
   "source": [
    "data.keys()"
   ]
  },
  {
   "cell_type": "code",
   "execution_count": 46,
   "id": "da4e1a67",
   "metadata": {
    "execution": {
     "iopub.execute_input": "2022-07-04T00:12:08.627045Z",
     "iopub.status.busy": "2022-07-04T00:12:08.626255Z",
     "iopub.status.idle": "2022-07-04T00:12:08.633628Z",
     "shell.execute_reply": "2022-07-04T00:12:08.632895Z"
    },
    "papermill": {
     "duration": 0.027571,
     "end_time": "2022-07-04T00:12:08.635875",
     "exception": false,
     "start_time": "2022-07-04T00:12:08.608304",
     "status": "completed"
    },
    "tags": []
   },
   "outputs": [],
   "source": [
    "from tqdm import tqdm\n",
    "def data_cleaner(data):\n",
    "    clean_data = []\n",
    "    for review in tqdm(data):\n",
    "        cleantext = BeautifulSoup(review, \"lxml\").text\n",
    "        cleantext = re.sub(r'[^\\w\\s]', '', cleantext)\n",
    "        clean_data.append(cleantext.strip())\n",
    "    return clean_data"
   ]
  },
  {
   "cell_type": "code",
   "execution_count": 24,
   "id": "acc08cad",
   "metadata": {
    "execution": {
     "iopub.execute_input": "2022-07-04T00:12:08.671005Z",
     "iopub.status.busy": "2022-07-04T00:12:08.670244Z",
     "iopub.status.idle": "2022-07-04T00:12:32.481120Z",
     "shell.execute_reply": "2022-07-04T00:12:32.480128Z"
    },
    "papermill": {
     "duration": 23.831186,
     "end_time": "2022-07-04T00:12:32.483548",
     "exception": false,
     "start_time": "2022-07-04T00:12:08.652362",
     "status": "completed"
    },
    "tags": []
   },
   "outputs": [
    {
     "name": "stderr",
     "output_type": "stream",
     "text": [
      "100%|██████████| 50000/50000 [00:19<00:00, 2521.38it/s]\n"
     ]
    }
   ],
   "source": [
    "clean_data = data_cleaner(data.review.values)"
   ]
  },
  {
   "cell_type": "code",
   "execution_count": 25,
   "id": "e5a5f6a5",
   "metadata": {
    "execution": {
     "iopub.execute_input": "2022-07-04T00:12:32.552077Z",
     "iopub.status.busy": "2022-07-04T00:12:32.551240Z",
     "iopub.status.idle": "2022-07-04T00:12:32.557342Z",
     "shell.execute_reply": "2022-07-04T00:12:32.556511Z"
    },
    "papermill": {
     "duration": 0.042609,
     "end_time": "2022-07-04T00:12:32.559350",
     "exception": false,
     "start_time": "2022-07-04T00:12:32.516741",
     "status": "completed"
    },
    "tags": []
   },
   "outputs": [
    {
     "data": {
      "text/plain": [
       "'One of the other reviewers has mentioned that after watching just 1 Oz episode youll be hooked They are right as this is exactly what happened with meThe first thing that struck me about Oz was its brutality and unflinching scenes of violence which set in right from the word GO Trust me this is not a show for the faint hearted or timid This show pulls no punches with regards to drugs sex or violence Its is hardcore in the classic use of the wordIt is called OZ as that is the nickname given to the Oswald Maximum Security State Penitentary It focuses mainly on Emerald City an experimental section of the prison where all the cells have glass fronts and face inwards so privacy is not high on the agenda Em City is home to manyAryans Muslims gangstas Latinos Christians Italians Irish and moreso scuffles death stares dodgy dealings and shady agreements are never far awayI would say the main appeal of the show is due to the fact that it goes where other shows wouldnt dare Forget pretty pictures painted for mainstream audiences forget charm forget romanceOZ doesnt mess around The first episode I ever saw struck me as so nasty it was surreal I couldnt say I was ready for it but as I watched more I developed a taste for Oz and got accustomed to the high levels of graphic violence Not just violence but injustice crooked guards wholl be sold out for a nickel inmates wholl kill on order and get away with it well mannered middle class inmates being turned into prison bitches due to their lack of street skills or prison experience Watching Oz you may become comfortable with what is uncomfortable viewingthats if you can get in touch with your darker side'"
      ]
     },
     "execution_count": 25,
     "metadata": {},
     "output_type": "execute_result"
    }
   ],
   "source": [
    "clean_data[0]"
   ]
  },
  {
   "cell_type": "markdown",
   "id": "eb84b53d",
   "metadata": {
    "papermill": {
     "duration": 0.032865,
     "end_time": "2022-07-04T00:12:32.625067",
     "exception": false,
     "start_time": "2022-07-04T00:12:32.592202",
     "status": "completed"
    },
    "tags": []
   },
   "source": [
    "### Train test split"
   ]
  },
  {
   "cell_type": "code",
   "execution_count": 26,
   "id": "be819337",
   "metadata": {
    "execution": {
     "iopub.execute_input": "2022-07-04T00:12:32.693524Z",
     "iopub.status.busy": "2022-07-04T00:12:32.692860Z",
     "iopub.status.idle": "2022-07-04T00:12:32.780398Z",
     "shell.execute_reply": "2022-07-04T00:12:32.779247Z"
    },
    "papermill": {
     "duration": 0.124476,
     "end_time": "2022-07-04T00:12:32.783149",
     "exception": false,
     "start_time": "2022-07-04T00:12:32.658673",
     "status": "completed"
    },
    "tags": []
   },
   "outputs": [],
   "source": [
    "from sklearn.model_selection import train_test_split\n",
    "X_train, X_test, y_train, y_test = train_test_split(data, data.sentiment, test_size=0.2, random_state=42, stratify=data.sentiment)"
   ]
  },
  {
   "cell_type": "code",
   "execution_count": 27,
   "id": "9c517da5",
   "metadata": {
    "execution": {
     "iopub.execute_input": "2022-07-04T00:12:32.853310Z",
     "iopub.status.busy": "2022-07-04T00:12:32.852310Z",
     "iopub.status.idle": "2022-07-04T00:12:32.873186Z",
     "shell.execute_reply": "2022-07-04T00:12:32.871984Z"
    },
    "papermill": {
     "duration": 0.059478,
     "end_time": "2022-07-04T00:12:32.875701",
     "exception": false,
     "start_time": "2022-07-04T00:12:32.816223",
     "status": "completed"
    },
    "tags": []
   },
   "outputs": [],
   "source": [
    "from sklearn.preprocessing import LabelEncoder\n",
    "\n",
    "le = LabelEncoder()\n",
    "y_train = le.fit_transform(y_train)\n",
    "le_test = LabelEncoder()\n",
    "y_test = le_test.fit_transform(y_test)"
   ]
  },
  {
   "cell_type": "code",
   "execution_count": 28,
   "id": "420e7718",
   "metadata": {
    "execution": {
     "iopub.execute_input": "2022-07-04T00:12:32.943826Z",
     "iopub.status.busy": "2022-07-04T00:12:32.943420Z",
     "iopub.status.idle": "2022-07-04T00:12:32.948883Z",
     "shell.execute_reply": "2022-07-04T00:12:32.947807Z"
    },
    "papermill": {
     "duration": 0.042176,
     "end_time": "2022-07-04T00:12:32.951190",
     "exception": false,
     "start_time": "2022-07-04T00:12:32.909014",
     "status": "completed"
    },
    "tags": []
   },
   "outputs": [
    {
     "name": "stdout",
     "output_type": "stream",
     "text": [
      "(40000, 2) (40000,)\n",
      "(10000, 2) (10000,)\n"
     ]
    }
   ],
   "source": [
    "print(X_train.shape, y_train.shape)\n",
    "print(X_test.shape, y_test.shape)"
   ]
  },
  {
   "cell_type": "code",
   "execution_count": 29,
   "id": "207cd78e",
   "metadata": {
    "execution": {
     "iopub.execute_input": "2022-07-04T00:12:33.019027Z",
     "iopub.status.busy": "2022-07-04T00:12:33.018586Z",
     "iopub.status.idle": "2022-07-04T00:12:52.206112Z",
     "shell.execute_reply": "2022-07-04T00:12:52.204980Z"
    },
    "papermill": {
     "duration": 19.225122,
     "end_time": "2022-07-04T00:12:52.209201",
     "exception": false,
     "start_time": "2022-07-04T00:12:32.984079",
     "status": "completed"
    },
    "tags": []
   },
   "outputs": [
    {
     "name": "stderr",
     "output_type": "stream",
     "text": [
      "100%|██████████| 40000/40000 [00:14<00:00, 2797.81it/s]\n"
     ]
    }
   ],
   "source": [
    "clean_data_train_data = data_cleaner(X_train.review.values)"
   ]
  },
  {
   "cell_type": "code",
   "execution_count": 30,
   "id": "802dd12f",
   "metadata": {
    "execution": {
     "iopub.execute_input": "2022-07-04T00:12:52.304375Z",
     "iopub.status.busy": "2022-07-04T00:12:52.303774Z",
     "iopub.status.idle": "2022-07-04T00:12:52.320457Z",
     "shell.execute_reply": "2022-07-04T00:12:52.319317Z"
    },
    "papermill": {
     "duration": 0.066291,
     "end_time": "2022-07-04T00:12:52.322906",
     "exception": false,
     "start_time": "2022-07-04T00:12:52.256615",
     "status": "completed"
    },
    "tags": []
   },
   "outputs": [
    {
     "data": {
      "text/html": [
       "<div>\n",
       "<style scoped>\n",
       "    .dataframe tbody tr th:only-of-type {\n",
       "        vertical-align: middle;\n",
       "    }\n",
       "\n",
       "    .dataframe tbody tr th {\n",
       "        vertical-align: top;\n",
       "    }\n",
       "\n",
       "    .dataframe thead th {\n",
       "        text-align: right;\n",
       "    }\n",
       "</style>\n",
       "<table border=\"1\" class=\"dataframe\">\n",
       "  <thead>\n",
       "    <tr style=\"text-align: right;\">\n",
       "      <th></th>\n",
       "      <th>review</th>\n",
       "      <th>sentiment</th>\n",
       "      <th>cleaned_text</th>\n",
       "    </tr>\n",
       "  </thead>\n",
       "  <tbody>\n",
       "    <tr>\n",
       "      <th>47808</th>\n",
       "      <td>I caught this little gem totally by accident b...</td>\n",
       "      <td>positive</td>\n",
       "      <td>I caught this little gem totally by accident b...</td>\n",
       "    </tr>\n",
       "    <tr>\n",
       "      <th>20154</th>\n",
       "      <td>I can't believe that I let myself into this mo...</td>\n",
       "      <td>negative</td>\n",
       "      <td>I cant believe that I let myself into this mov...</td>\n",
       "    </tr>\n",
       "    <tr>\n",
       "      <th>43069</th>\n",
       "      <td>*spoiler alert!* it just gets to me the nerve ...</td>\n",
       "      <td>negative</td>\n",
       "      <td>spoiler alert it just gets to me the nerve som...</td>\n",
       "    </tr>\n",
       "    <tr>\n",
       "      <th>19413</th>\n",
       "      <td>If there's one thing I've learnt from watching...</td>\n",
       "      <td>negative</td>\n",
       "      <td>If theres one thing Ive learnt from watching G...</td>\n",
       "    </tr>\n",
       "    <tr>\n",
       "      <th>13673</th>\n",
       "      <td>I remember when this was in theaters, reviews ...</td>\n",
       "      <td>negative</td>\n",
       "      <td>I remember when this was in theaters reviews s...</td>\n",
       "    </tr>\n",
       "  </tbody>\n",
       "</table>\n",
       "</div>"
      ],
      "text/plain": [
       "                                                  review sentiment  \\\n",
       "47808  I caught this little gem totally by accident b...  positive   \n",
       "20154  I can't believe that I let myself into this mo...  negative   \n",
       "43069  *spoiler alert!* it just gets to me the nerve ...  negative   \n",
       "19413  If there's one thing I've learnt from watching...  negative   \n",
       "13673  I remember when this was in theaters, reviews ...  negative   \n",
       "\n",
       "                                            cleaned_text  \n",
       "47808  I caught this little gem totally by accident b...  \n",
       "20154  I cant believe that I let myself into this mov...  \n",
       "43069  spoiler alert it just gets to me the nerve som...  \n",
       "19413  If theres one thing Ive learnt from watching G...  \n",
       "13673  I remember when this was in theaters reviews s...  "
      ]
     },
     "execution_count": 30,
     "metadata": {},
     "output_type": "execute_result"
    }
   ],
   "source": [
    "X_train['cleaned_text'] = clean_data_train_data\n",
    "X_train.head()"
   ]
  },
  {
   "cell_type": "code",
   "execution_count": 31,
   "id": "ce1a0a0e",
   "metadata": {
    "execution": {
     "iopub.execute_input": "2022-07-04T00:12:52.417414Z",
     "iopub.status.busy": "2022-07-04T00:12:52.417037Z",
     "iopub.status.idle": "2022-07-04T00:12:57.191242Z",
     "shell.execute_reply": "2022-07-04T00:12:57.190226Z"
    },
    "papermill": {
     "duration": 4.82472,
     "end_time": "2022-07-04T00:12:57.194006",
     "exception": false,
     "start_time": "2022-07-04T00:12:52.369286",
     "status": "completed"
    },
    "tags": []
   },
   "outputs": [
    {
     "name": "stderr",
     "output_type": "stream",
     "text": [
      "100%|██████████| 10000/10000 [00:03<00:00, 2772.74it/s]\n"
     ]
    },
    {
     "data": {
      "text/html": [
       "<div>\n",
       "<style scoped>\n",
       "    .dataframe tbody tr th:only-of-type {\n",
       "        vertical-align: middle;\n",
       "    }\n",
       "\n",
       "    .dataframe tbody tr th {\n",
       "        vertical-align: top;\n",
       "    }\n",
       "\n",
       "    .dataframe thead th {\n",
       "        text-align: right;\n",
       "    }\n",
       "</style>\n",
       "<table border=\"1\" class=\"dataframe\">\n",
       "  <thead>\n",
       "    <tr style=\"text-align: right;\">\n",
       "      <th></th>\n",
       "      <th>review</th>\n",
       "      <th>sentiment</th>\n",
       "      <th>cleaned_text</th>\n",
       "    </tr>\n",
       "  </thead>\n",
       "  <tbody>\n",
       "    <tr>\n",
       "      <th>18870</th>\n",
       "      <td>Yes, MTV there really is a way to market Daria...</td>\n",
       "      <td>negative</td>\n",
       "      <td>Yes MTV there really is a way to market Daria ...</td>\n",
       "    </tr>\n",
       "    <tr>\n",
       "      <th>39791</th>\n",
       "      <td>The story of the bride fair is an amusing and ...</td>\n",
       "      <td>negative</td>\n",
       "      <td>The story of the bride fair is an amusing and ...</td>\n",
       "    </tr>\n",
       "    <tr>\n",
       "      <th>30381</th>\n",
       "      <td>A team varied between Scully and Mulder, two o...</td>\n",
       "      <td>positive</td>\n",
       "      <td>A team varied between Scully and Mulder two ot...</td>\n",
       "    </tr>\n",
       "    <tr>\n",
       "      <th>42294</th>\n",
       "      <td>This was a popular movie probably because of t...</td>\n",
       "      <td>negative</td>\n",
       "      <td>This was a popular movie probably because of t...</td>\n",
       "    </tr>\n",
       "    <tr>\n",
       "      <th>33480</th>\n",
       "      <td>This movie made me so angry!! Here I am thinki...</td>\n",
       "      <td>negative</td>\n",
       "      <td>This movie made me so angry Here I am thinking...</td>\n",
       "    </tr>\n",
       "  </tbody>\n",
       "</table>\n",
       "</div>"
      ],
      "text/plain": [
       "                                                  review sentiment  \\\n",
       "18870  Yes, MTV there really is a way to market Daria...  negative   \n",
       "39791  The story of the bride fair is an amusing and ...  negative   \n",
       "30381  A team varied between Scully and Mulder, two o...  positive   \n",
       "42294  This was a popular movie probably because of t...  negative   \n",
       "33480  This movie made me so angry!! Here I am thinki...  negative   \n",
       "\n",
       "                                            cleaned_text  \n",
       "18870  Yes MTV there really is a way to market Daria ...  \n",
       "39791  The story of the bride fair is an amusing and ...  \n",
       "30381  A team varied between Scully and Mulder two ot...  \n",
       "42294  This was a popular movie probably because of t...  \n",
       "33480  This movie made me so angry Here I am thinking...  "
      ]
     },
     "execution_count": 31,
     "metadata": {},
     "output_type": "execute_result"
    }
   ],
   "source": [
    "clean_data_test_data = data_cleaner(X_test.review.values)\n",
    "X_test['cleaned_text'] = clean_data_test_data\n",
    "X_test.head()"
   ]
  },
  {
   "cell_type": "markdown",
   "id": "4bd2ceb5",
   "metadata": {
    "papermill": {
     "duration": 0.049422,
     "end_time": "2022-07-04T00:12:57.293654",
     "exception": false,
     "start_time": "2022-07-04T00:12:57.244232",
     "status": "completed"
    },
    "tags": []
   },
   "source": [
    "### Vectorizer"
   ]
  },
  {
   "cell_type": "code",
   "execution_count": 32,
   "id": "14592aac",
   "metadata": {
    "execution": {
     "iopub.execute_input": "2022-07-04T00:12:57.395664Z",
     "iopub.status.busy": "2022-07-04T00:12:57.395216Z",
     "iopub.status.idle": "2022-07-04T00:12:57.400376Z",
     "shell.execute_reply": "2022-07-04T00:12:57.399201Z"
    },
    "papermill": {
     "duration": 0.058754,
     "end_time": "2022-07-04T00:12:57.402625",
     "exception": false,
     "start_time": "2022-07-04T00:12:57.343871",
     "status": "completed"
    },
    "tags": []
   },
   "outputs": [],
   "source": [
    "from sklearn.feature_extraction.text import CountVectorizer"
   ]
  },
  {
   "cell_type": "code",
   "execution_count": 33,
   "id": "d0803b68",
   "metadata": {
    "execution": {
     "iopub.execute_input": "2022-07-04T00:12:57.503306Z",
     "iopub.status.busy": "2022-07-04T00:12:57.502884Z",
     "iopub.status.idle": "2022-07-04T00:13:11.665522Z",
     "shell.execute_reply": "2022-07-04T00:13:11.664356Z"
    },
    "papermill": {
     "duration": 14.216367,
     "end_time": "2022-07-04T00:13:11.668398",
     "exception": false,
     "start_time": "2022-07-04T00:12:57.452031",
     "status": "completed"
    },
    "tags": []
   },
   "outputs": [],
   "source": [
    "vec = CountVectorizer()\n",
    "vec = vec.fit(X_train.cleaned_text)\n",
    "train_x_bow = vec.transform(X_train.cleaned_text)\n",
    "test_x_bow = vec.transform(X_test.cleaned_text)"
   ]
  },
  {
   "cell_type": "code",
   "execution_count": 34,
   "id": "28388b55",
   "metadata": {
    "execution": {
     "iopub.execute_input": "2022-07-04T00:13:11.770299Z",
     "iopub.status.busy": "2022-07-04T00:13:11.769917Z",
     "iopub.status.idle": "2022-07-04T00:13:11.775205Z",
     "shell.execute_reply": "2022-07-04T00:13:11.774026Z"
    },
    "papermill": {
     "duration": 0.060328,
     "end_time": "2022-07-04T00:13:11.778609",
     "exception": false,
     "start_time": "2022-07-04T00:13:11.718281",
     "status": "completed"
    },
    "tags": []
   },
   "outputs": [
    {
     "name": "stdout",
     "output_type": "stream",
     "text": [
      "(40000, 192272)\n",
      "(10000, 192272)\n"
     ]
    }
   ],
   "source": [
    "print(train_x_bow.shape)\n",
    "print(test_x_bow.shape)"
   ]
  },
  {
   "cell_type": "markdown",
   "id": "70ffa443",
   "metadata": {
    "papermill": {
     "duration": 0.049352,
     "end_time": "2022-07-04T00:13:11.877634",
     "exception": false,
     "start_time": "2022-07-04T00:13:11.828282",
     "status": "completed"
    },
    "tags": []
   },
   "source": [
    "### Naive Bayes with Hyperparameter Tuning"
   ]
  },
  {
   "cell_type": "code",
   "execution_count": 35,
   "id": "e973b8ec",
   "metadata": {
    "execution": {
     "iopub.execute_input": "2022-07-04T00:13:11.979760Z",
     "iopub.status.busy": "2022-07-04T00:13:11.978729Z",
     "iopub.status.idle": "2022-07-04T00:13:11.985295Z",
     "shell.execute_reply": "2022-07-04T00:13:11.984503Z"
    },
    "papermill": {
     "duration": 0.059554,
     "end_time": "2022-07-04T00:13:11.987333",
     "exception": false,
     "start_time": "2022-07-04T00:13:11.927779",
     "status": "completed"
    },
    "tags": []
   },
   "outputs": [],
   "source": [
    "from sklearn.naive_bayes import MultinomialNB\n",
    "from sklearn.model_selection import GridSearchCV"
   ]
  },
  {
   "cell_type": "code",
   "execution_count": 36,
   "id": "e3378a17",
   "metadata": {
    "execution": {
     "iopub.execute_input": "2022-07-04T00:13:12.090182Z",
     "iopub.status.busy": "2022-07-04T00:13:12.089768Z",
     "iopub.status.idle": "2022-07-04T00:13:12.094245Z",
     "shell.execute_reply": "2022-07-04T00:13:12.093209Z"
    },
    "papermill": {
     "duration": 0.057588,
     "end_time": "2022-07-04T00:13:12.096442",
     "exception": false,
     "start_time": "2022-07-04T00:13:12.038854",
     "status": "completed"
    },
    "tags": []
   },
   "outputs": [],
   "source": [
    "classifier = MultinomialNB()"
   ]
  },
  {
   "cell_type": "code",
   "execution_count": 37,
   "id": "52e0ab32",
   "metadata": {
    "execution": {
     "iopub.execute_input": "2022-07-04T00:13:12.198968Z",
     "iopub.status.busy": "2022-07-04T00:13:12.197794Z",
     "iopub.status.idle": "2022-07-04T00:13:12.202897Z",
     "shell.execute_reply": "2022-07-04T00:13:12.202002Z"
    },
    "papermill": {
     "duration": 0.058692,
     "end_time": "2022-07-04T00:13:12.205045",
     "exception": false,
     "start_time": "2022-07-04T00:13:12.146353",
     "status": "completed"
    },
    "tags": []
   },
   "outputs": [],
   "source": [
    "alpha_ranges = {\n",
    "    \"alpha\": [0.001, 0.01, 0.1, 1, 10.0, 100]\n",
    "}"
   ]
  },
  {
   "cell_type": "code",
   "execution_count": 38,
   "id": "ba4aca61",
   "metadata": {
    "execution": {
     "iopub.execute_input": "2022-07-04T00:13:12.306546Z",
     "iopub.status.busy": "2022-07-04T00:13:12.306164Z",
     "iopub.status.idle": "2022-07-04T00:13:14.404040Z",
     "shell.execute_reply": "2022-07-04T00:13:14.402890Z"
    },
    "papermill": {
     "duration": 2.151635,
     "end_time": "2022-07-04T00:13:14.406755",
     "exception": false,
     "start_time": "2022-07-04T00:13:12.255120",
     "status": "completed"
    },
    "tags": []
   },
   "outputs": [
    {
     "data": {
      "text/html": [
       "<style>#sk-container-id-1 {color: black;}#sk-container-id-1 pre{padding: 0;}#sk-container-id-1 div.sk-toggleable {background-color: white;}#sk-container-id-1 label.sk-toggleable__label {cursor: pointer;display: block;width: 100%;margin-bottom: 0;padding: 0.3em;box-sizing: border-box;text-align: center;}#sk-container-id-1 label.sk-toggleable__label-arrow:before {content: \"▸\";float: left;margin-right: 0.25em;color: #696969;}#sk-container-id-1 label.sk-toggleable__label-arrow:hover:before {color: black;}#sk-container-id-1 div.sk-estimator:hover label.sk-toggleable__label-arrow:before {color: black;}#sk-container-id-1 div.sk-toggleable__content {max-height: 0;max-width: 0;overflow: hidden;text-align: left;background-color: #f0f8ff;}#sk-container-id-1 div.sk-toggleable__content pre {margin: 0.2em;color: black;border-radius: 0.25em;background-color: #f0f8ff;}#sk-container-id-1 input.sk-toggleable__control:checked~div.sk-toggleable__content {max-height: 200px;max-width: 100%;overflow: auto;}#sk-container-id-1 input.sk-toggleable__control:checked~label.sk-toggleable__label-arrow:before {content: \"▾\";}#sk-container-id-1 div.sk-estimator input.sk-toggleable__control:checked~label.sk-toggleable__label {background-color: #d4ebff;}#sk-container-id-1 div.sk-label input.sk-toggleable__control:checked~label.sk-toggleable__label {background-color: #d4ebff;}#sk-container-id-1 input.sk-hidden--visually {border: 0;clip: rect(1px 1px 1px 1px);clip: rect(1px, 1px, 1px, 1px);height: 1px;margin: -1px;overflow: hidden;padding: 0;position: absolute;width: 1px;}#sk-container-id-1 div.sk-estimator {font-family: monospace;background-color: #f0f8ff;border: 1px dotted black;border-radius: 0.25em;box-sizing: border-box;margin-bottom: 0.5em;}#sk-container-id-1 div.sk-estimator:hover {background-color: #d4ebff;}#sk-container-id-1 div.sk-parallel-item::after {content: \"\";width: 100%;border-bottom: 1px solid gray;flex-grow: 1;}#sk-container-id-1 div.sk-label:hover label.sk-toggleable__label {background-color: #d4ebff;}#sk-container-id-1 div.sk-serial::before {content: \"\";position: absolute;border-left: 1px solid gray;box-sizing: border-box;top: 0;bottom: 0;left: 50%;z-index: 0;}#sk-container-id-1 div.sk-serial {display: flex;flex-direction: column;align-items: center;background-color: white;padding-right: 0.2em;padding-left: 0.2em;position: relative;}#sk-container-id-1 div.sk-item {position: relative;z-index: 1;}#sk-container-id-1 div.sk-parallel {display: flex;align-items: stretch;justify-content: center;background-color: white;position: relative;}#sk-container-id-1 div.sk-item::before, #sk-container-id-1 div.sk-parallel-item::before {content: \"\";position: absolute;border-left: 1px solid gray;box-sizing: border-box;top: 0;bottom: 0;left: 50%;z-index: -1;}#sk-container-id-1 div.sk-parallel-item {display: flex;flex-direction: column;z-index: 1;position: relative;background-color: white;}#sk-container-id-1 div.sk-parallel-item:first-child::after {align-self: flex-end;width: 50%;}#sk-container-id-1 div.sk-parallel-item:last-child::after {align-self: flex-start;width: 50%;}#sk-container-id-1 div.sk-parallel-item:only-child::after {width: 0;}#sk-container-id-1 div.sk-dashed-wrapped {border: 1px dashed gray;margin: 0 0.4em 0.5em 0.4em;box-sizing: border-box;padding-bottom: 0.4em;background-color: white;}#sk-container-id-1 div.sk-label label {font-family: monospace;font-weight: bold;display: inline-block;line-height: 1.2em;}#sk-container-id-1 div.sk-label-container {text-align: center;}#sk-container-id-1 div.sk-container {/* jupyter's `normalize.less` sets `[hidden] { display: none; }` but bootstrap.min.css set `[hidden] { display: none !important; }` so we also need the `!important` here to be able to override the default hidden behavior on the sphinx rendered scikit-learn.org. See: https://github.com/scikit-learn/scikit-learn/issues/21755 */display: inline-block !important;position: relative;}#sk-container-id-1 div.sk-text-repr-fallback {display: none;}</style><div id=\"sk-container-id-1\" class=\"sk-top-container\"><div class=\"sk-text-repr-fallback\"><pre>GridSearchCV(cv=3, estimator=MultinomialNB(),\n",
       "             param_grid={&#x27;alpha&#x27;: [0.001, 0.01, 0.1, 1, 10.0, 100]},\n",
       "             return_train_score=True, scoring=&#x27;accuracy&#x27;)</pre><b>In a Jupyter environment, please rerun this cell to show the HTML representation or trust the notebook. <br />On GitHub, the HTML representation is unable to render, please try loading this page with nbviewer.org.</b></div><div class=\"sk-container\" hidden><div class=\"sk-item sk-dashed-wrapped\"><div class=\"sk-label-container\"><div class=\"sk-label sk-toggleable\"><input class=\"sk-toggleable__control sk-hidden--visually\" id=\"sk-estimator-id-1\" type=\"checkbox\" ><label for=\"sk-estimator-id-1\" class=\"sk-toggleable__label sk-toggleable__label-arrow\">GridSearchCV</label><div class=\"sk-toggleable__content\"><pre>GridSearchCV(cv=3, estimator=MultinomialNB(),\n",
       "             param_grid={&#x27;alpha&#x27;: [0.001, 0.01, 0.1, 1, 10.0, 100]},\n",
       "             return_train_score=True, scoring=&#x27;accuracy&#x27;)</pre></div></div></div><div class=\"sk-parallel\"><div class=\"sk-parallel-item\"><div class=\"sk-item\"><div class=\"sk-label-container\"><div class=\"sk-label sk-toggleable\"><input class=\"sk-toggleable__control sk-hidden--visually\" id=\"sk-estimator-id-2\" type=\"checkbox\" ><label for=\"sk-estimator-id-2\" class=\"sk-toggleable__label sk-toggleable__label-arrow\">estimator: MultinomialNB</label><div class=\"sk-toggleable__content\"><pre>MultinomialNB()</pre></div></div></div><div class=\"sk-serial\"><div class=\"sk-item\"><div class=\"sk-estimator sk-toggleable\"><input class=\"sk-toggleable__control sk-hidden--visually\" id=\"sk-estimator-id-3\" type=\"checkbox\" ><label for=\"sk-estimator-id-3\" class=\"sk-toggleable__label sk-toggleable__label-arrow\">MultinomialNB</label><div class=\"sk-toggleable__content\"><pre>MultinomialNB()</pre></div></div></div></div></div></div></div></div></div></div>"
      ],
      "text/plain": [
       "GridSearchCV(cv=3, estimator=MultinomialNB(),\n",
       "             param_grid={'alpha': [0.001, 0.01, 0.1, 1, 10.0, 100]},\n",
       "             return_train_score=True, scoring='accuracy')"
      ]
     },
     "execution_count": 38,
     "metadata": {},
     "output_type": "execute_result"
    }
   ],
   "source": [
    "grid_search = GridSearchCV(classifier, param_grid=alpha_ranges, scoring='accuracy', cv=3, return_train_score=True)\n",
    "grid_search.fit(train_x_bow, y_train)"
   ]
  },
  {
   "cell_type": "code",
   "execution_count": 40,
   "id": "77423d56",
   "metadata": {
    "execution": {
     "iopub.execute_input": "2022-07-04T00:13:14.509627Z",
     "iopub.status.busy": "2022-07-04T00:13:14.509102Z",
     "iopub.status.idle": "2022-07-04T00:13:14.516013Z",
     "shell.execute_reply": "2022-07-04T00:13:14.514737Z"
    },
    "papermill": {
     "duration": 0.060428,
     "end_time": "2022-07-04T00:13:14.518324",
     "exception": false,
     "start_time": "2022-07-04T00:13:14.457896",
     "status": "completed"
    },
    "tags": []
   },
   "outputs": [],
   "source": [
    "alpha = [0.001, 0.01, 0.1, 1, 10.0, 100]\n",
    "train_acc = grid_search.cv_results_['mean_train_score']\n",
    "train_std = grid_search.cv_results_['std_train_score']\n",
    "\n",
    "test_acc = grid_search.cv_results_['mean_test_score']\n",
    "test_std = grid_search.cv_results_['std_test_score']\n"
   ]
  },
  {
   "cell_type": "code",
   "execution_count": 41,
   "id": "a4dab4bf",
   "metadata": {
    "execution": {
     "iopub.execute_input": "2022-07-04T00:13:14.620295Z",
     "iopub.status.busy": "2022-07-04T00:13:14.619878Z",
     "iopub.status.idle": "2022-07-04T00:13:14.625104Z",
     "shell.execute_reply": "2022-07-04T00:13:14.623853Z"
    },
    "papermill": {
     "duration": 0.05909,
     "end_time": "2022-07-04T00:13:14.627728",
     "exception": false,
     "start_time": "2022-07-04T00:13:14.568638",
     "status": "completed"
    },
    "tags": []
   },
   "outputs": [],
   "source": [
    "import matplotlib.pyplot as plt"
   ]
  },
  {
   "cell_type": "code",
   "execution_count": 42,
   "id": "bb8a2f42",
   "metadata": {
    "execution": {
     "iopub.execute_input": "2022-07-04T00:13:14.730072Z",
     "iopub.status.busy": "2022-07-04T00:13:14.729018Z",
     "iopub.status.idle": "2022-07-04T00:13:15.031410Z",
     "shell.execute_reply": "2022-07-04T00:13:15.030084Z"
    },
    "papermill": {
     "duration": 0.356706,
     "end_time": "2022-07-04T00:13:15.034399",
     "exception": false,
     "start_time": "2022-07-04T00:13:14.677693",
     "status": "completed"
    },
    "tags": []
   },
   "outputs": [
    {
     "data": {
      "image/png": "[encoded data removed]",
      "text/plain": [
       "<Figure size 432x288 with 1 Axes>"
      ]
     },
     "metadata": {
      "needs_background": "light"
     },
     "output_type": "display_data"
    }
   ],
   "source": [
    "plt.plot(alpha, train_acc, label=\"Training Score\", color='b')\n",
    "plt.plot(alpha, test_acc, label=\"Cross Validation Score\", color='r')\n",
    "\n",
    "plt.title(\"Validation Curve with Naive Bayes Classifier\")\n",
    "plt.xlabel(\"Alpha\")\n",
    "plt.ylabel(\"Accuracy\")\n",
    "\n",
    "plt.tight_layout()\n",
    "plt.legend(loc = 'best')\n",
    "plt.show()"
   ]
  },
  {
   "cell_type": "code",
   "execution_count": 43,
   "id": "98dac97e",
   "metadata": {
    "execution": {
     "iopub.execute_input": "2022-07-04T00:13:15.136873Z",
     "iopub.status.busy": "2022-07-04T00:13:15.136170Z",
     "iopub.status.idle": "2022-07-04T00:13:15.142118Z",
     "shell.execute_reply": "2022-07-04T00:13:15.141293Z"
    },
    "papermill": {
     "duration": 0.059743,
     "end_time": "2022-07-04T00:13:15.144358",
     "exception": false,
     "start_time": "2022-07-04T00:13:15.084615",
     "status": "completed"
    },
    "tags": []
   },
   "outputs": [
    {
     "data": {
      "text/html": [
       "<style>#sk-container-id-2 {color: black;}#sk-container-id-2 pre{padding: 0;}#sk-container-id-2 div.sk-toggleable {background-color: white;}#sk-container-id-2 label.sk-toggleable__label {cursor: pointer;display: block;width: 100%;margin-bottom: 0;padding: 0.3em;box-sizing: border-box;text-align: center;}#sk-container-id-2 label.sk-toggleable__label-arrow:before {content: \"▸\";float: left;margin-right: 0.25em;color: #696969;}#sk-container-id-2 label.sk-toggleable__label-arrow:hover:before {color: black;}#sk-container-id-2 div.sk-estimator:hover label.sk-toggleable__label-arrow:before {color: black;}#sk-container-id-2 div.sk-toggleable__content {max-height: 0;max-width: 0;overflow: hidden;text-align: left;background-color: #f0f8ff;}#sk-container-id-2 div.sk-toggleable__content pre {margin: 0.2em;color: black;border-radius: 0.25em;background-color: #f0f8ff;}#sk-container-id-2 input.sk-toggleable__control:checked~div.sk-toggleable__content {max-height: 200px;max-width: 100%;overflow: auto;}#sk-container-id-2 input.sk-toggleable__control:checked~label.sk-toggleable__label-arrow:before {content: \"▾\";}#sk-container-id-2 div.sk-estimator input.sk-toggleable__control:checked~label.sk-toggleable__label {background-color: #d4ebff;}#sk-container-id-2 div.sk-label input.sk-toggleable__control:checked~label.sk-toggleable__label {background-color: #d4ebff;}#sk-container-id-2 input.sk-hidden--visually {border: 0;clip: rect(1px 1px 1px 1px);clip: rect(1px, 1px, 1px, 1px);height: 1px;margin: -1px;overflow: hidden;padding: 0;position: absolute;width: 1px;}#sk-container-id-2 div.sk-estimator {font-family: monospace;background-color: #f0f8ff;border: 1px dotted black;border-radius: 0.25em;box-sizing: border-box;margin-bottom: 0.5em;}#sk-container-id-2 div.sk-estimator:hover {background-color: #d4ebff;}#sk-container-id-2 div.sk-parallel-item::after {content: \"\";width: 100%;border-bottom: 1px solid gray;flex-grow: 1;}#sk-container-id-2 div.sk-label:hover label.sk-toggleable__label {background-color: #d4ebff;}#sk-container-id-2 div.sk-serial::before {content: \"\";position: absolute;border-left: 1px solid gray;box-sizing: border-box;top: 0;bottom: 0;left: 50%;z-index: 0;}#sk-container-id-2 div.sk-serial {display: flex;flex-direction: column;align-items: center;background-color: white;padding-right: 0.2em;padding-left: 0.2em;position: relative;}#sk-container-id-2 div.sk-item {position: relative;z-index: 1;}#sk-container-id-2 div.sk-parallel {display: flex;align-items: stretch;justify-content: center;background-color: white;position: relative;}#sk-container-id-2 div.sk-item::before, #sk-container-id-2 div.sk-parallel-item::before {content: \"\";position: absolute;border-left: 1px solid gray;box-sizing: border-box;top: 0;bottom: 0;left: 50%;z-index: -1;}#sk-container-id-2 div.sk-parallel-item {display: flex;flex-direction: column;z-index: 1;position: relative;background-color: white;}#sk-container-id-2 div.sk-parallel-item:first-child::after {align-self: flex-end;width: 50%;}#sk-container-id-2 div.sk-parallel-item:last-child::after {align-self: flex-start;width: 50%;}#sk-container-id-2 div.sk-parallel-item:only-child::after {width: 0;}#sk-container-id-2 div.sk-dashed-wrapped {border: 1px dashed gray;margin: 0 0.4em 0.5em 0.4em;box-sizing: border-box;padding-bottom: 0.4em;background-color: white;}#sk-container-id-2 div.sk-label label {font-family: monospace;font-weight: bold;display: inline-block;line-height: 1.2em;}#sk-container-id-2 div.sk-label-container {text-align: center;}#sk-container-id-2 div.sk-container {/* jupyter's `normalize.less` sets `[hidden] { display: none; }` but bootstrap.min.css set `[hidden] { display: none !important; }` so we also need the `!important` here to be able to override the default hidden behavior on the sphinx rendered scikit-learn.org. See: https://github.com/scikit-learn/scikit-learn/issues/21755 */display: inline-block !important;position: relative;}#sk-container-id-2 div.sk-text-repr-fallback {display: none;}</style><div id=\"sk-container-id-2\" class=\"sk-top-container\"><div class=\"sk-text-repr-fallback\"><pre>MultinomialNB(alpha=1)</pre><b>In a Jupyter environment, please rerun this cell to show the HTML representation or trust the notebook. <br />On GitHub, the HTML representation is unable to render, please try loading this page with nbviewer.org.</b></div><div class=\"sk-container\" hidden><div class=\"sk-item\"><div class=\"sk-estimator sk-toggleable\"><input class=\"sk-toggleable__control sk-hidden--visually\" id=\"sk-estimator-id-4\" type=\"checkbox\" checked><label for=\"sk-estimator-id-4\" class=\"sk-toggleable__label sk-toggleable__label-arrow\">MultinomialNB</label><div class=\"sk-toggleable__content\"><pre>MultinomialNB(alpha=1)</pre></div></div></div></div></div>"
      ],
      "text/plain": [
       "MultinomialNB(alpha=1)"
      ]
     },
     "execution_count": 43,
     "metadata": {},
     "output_type": "execute_result"
    }
   ],
   "source": [
    "grid_search.best_estimator_"
   ]
  },
  {
   "cell_type": "code",
   "execution_count": 44,
   "id": "ca85f1aa",
   "metadata": {
    "execution": {
     "iopub.execute_input": "2022-07-04T00:13:15.248152Z",
     "iopub.status.busy": "2022-07-04T00:13:15.247451Z",
     "iopub.status.idle": "2022-07-04T00:13:15.304104Z",
     "shell.execute_reply": "2022-07-04T00:13:15.303005Z"
    },
    "papermill": {
     "duration": 0.110919,
     "end_time": "2022-07-04T00:13:15.306621",
     "exception": false,
     "start_time": "2022-07-04T00:13:15.195702",
     "status": "completed"
    },
    "tags": []
   },
   "outputs": [
    {
     "data": {
      "text/html": [
       "<style>#sk-container-id-3 {color: black;}#sk-container-id-3 pre{padding: 0;}#sk-container-id-3 div.sk-toggleable {background-color: white;}#sk-container-id-3 label.sk-toggleable__label {cursor: pointer;display: block;width: 100%;margin-bottom: 0;padding: 0.3em;box-sizing: border-box;text-align: center;}#sk-container-id-3 label.sk-toggleable__label-arrow:before {content: \"▸\";float: left;margin-right: 0.25em;color: #696969;}#sk-container-id-3 label.sk-toggleable__label-arrow:hover:before {color: black;}#sk-container-id-3 div.sk-estimator:hover label.sk-toggleable__label-arrow:before {color: black;}#sk-container-id-3 div.sk-toggleable__content {max-height: 0;max-width: 0;overflow: hidden;text-align: left;background-color: #f0f8ff;}#sk-container-id-3 div.sk-toggleable__content pre {margin: 0.2em;color: black;border-radius: 0.25em;background-color: #f0f8ff;}#sk-container-id-3 input.sk-toggleable__control:checked~div.sk-toggleable__content {max-height: 200px;max-width: 100%;overflow: auto;}#sk-container-id-3 input.sk-toggleable__control:checked~label.sk-toggleable__label-arrow:before {content: \"▾\";}#sk-container-id-3 div.sk-estimator input.sk-toggleable__control:checked~label.sk-toggleable__label {background-color: #d4ebff;}#sk-container-id-3 div.sk-label input.sk-toggleable__control:checked~label.sk-toggleable__label {background-color: #d4ebff;}#sk-container-id-3 input.sk-hidden--visually {border: 0;clip: rect(1px 1px 1px 1px);clip: rect(1px, 1px, 1px, 1px);height: 1px;margin: -1px;overflow: hidden;padding: 0;position: absolute;width: 1px;}#sk-container-id-3 div.sk-estimator {font-family: monospace;background-color: #f0f8ff;border: 1px dotted black;border-radius: 0.25em;box-sizing: border-box;margin-bottom: 0.5em;}#sk-container-id-3 div.sk-estimator:hover {background-color: #d4ebff;}#sk-container-id-3 div.sk-parallel-item::after {content: \"\";width: 100%;border-bottom: 1px solid gray;flex-grow: 1;}#sk-container-id-3 div.sk-label:hover label.sk-toggleable__label {background-color: #d4ebff;}#sk-container-id-3 div.sk-serial::before {content: \"\";position: absolute;border-left: 1px solid gray;box-sizing: border-box;top: 0;bottom: 0;left: 50%;z-index: 0;}#sk-container-id-3 div.sk-serial {display: flex;flex-direction: column;align-items: center;background-color: white;padding-right: 0.2em;padding-left: 0.2em;position: relative;}#sk-container-id-3 div.sk-item {position: relative;z-index: 1;}#sk-container-id-3 div.sk-parallel {display: flex;align-items: stretch;justify-content: center;background-color: white;position: relative;}#sk-container-id-3 div.sk-item::before, #sk-container-id-3 div.sk-parallel-item::before {content: \"\";position: absolute;border-left: 1px solid gray;box-sizing: border-box;top: 0;bottom: 0;left: 50%;z-index: -1;}#sk-container-id-3 div.sk-parallel-item {display: flex;flex-direction: column;z-index: 1;position: relative;background-color: white;}#sk-container-id-3 div.sk-parallel-item:first-child::after {align-self: flex-end;width: 50%;}#sk-container-id-3 div.sk-parallel-item:last-child::after {align-self: flex-start;width: 50%;}#sk-container-id-3 div.sk-parallel-item:only-child::after {width: 0;}#sk-container-id-3 div.sk-dashed-wrapped {border: 1px dashed gray;margin: 0 0.4em 0.5em 0.4em;box-sizing: border-box;padding-bottom: 0.4em;background-color: white;}#sk-container-id-3 div.sk-label label {font-family: monospace;font-weight: bold;display: inline-block;line-height: 1.2em;}#sk-container-id-3 div.sk-label-container {text-align: center;}#sk-container-id-3 div.sk-container {/* jupyter's `normalize.less` sets `[hidden] { display: none; }` but bootstrap.min.css set `[hidden] { display: none !important; }` so we also need the `!important` here to be able to override the default hidden behavior on the sphinx rendered scikit-learn.org. See: https://github.com/scikit-learn/scikit-learn/issues/21755 */display: inline-block !important;position: relative;}#sk-container-id-3 div.sk-text-repr-fallback {display: none;}</style><div id=\"sk-container-id-3\" class=\"sk-top-container\"><div class=\"sk-text-repr-fallback\"><pre>MultinomialNB(alpha=1)</pre><b>In a Jupyter environment, please rerun this cell to show the HTML representation or trust the notebook. <br />On GitHub, the HTML representation is unable to render, please try loading this page with nbviewer.org.</b></div><div class=\"sk-container\" hidden><div class=\"sk-item\"><div class=\"sk-estimator sk-toggleable\"><input class=\"sk-toggleable__control sk-hidden--visually\" id=\"sk-estimator-id-5\" type=\"checkbox\" checked><label for=\"sk-estimator-id-5\" class=\"sk-toggleable__label sk-toggleable__label-arrow\">MultinomialNB</label><div class=\"sk-toggleable__content\"><pre>MultinomialNB(alpha=1)</pre></div></div></div></div></div>"
      ],
      "text/plain": [
       "MultinomialNB(alpha=1)"
      ]
     },
     "execution_count": 44,
     "metadata": {},
     "output_type": "execute_result"
    }
   ],
   "source": [
    "classifier = MultinomialNB(alpha=1)\n",
    "classifier.fit(train_x_bow, y_train)\n"
   ]
  },
  {
   "cell_type": "code",
   "execution_count": 45,
   "id": "025c020c",
   "metadata": {
    "execution": {
     "iopub.execute_input": "2022-07-04T00:13:15.409568Z",
     "iopub.status.busy": "2022-07-04T00:13:15.409155Z",
     "iopub.status.idle": "2022-07-04T00:13:15.428507Z",
     "shell.execute_reply": "2022-07-04T00:13:15.427433Z"
    },
    "papermill": {
     "duration": 0.073655,
     "end_time": "2022-07-04T00:13:15.430884",
     "exception": false,
     "start_time": "2022-07-04T00:13:15.357229",
     "status": "completed"
    },
    "tags": []
   },
   "outputs": [],
   "source": [
    "predict = classifier.predict(test_x_bow)"
   ]
  },
  {
   "cell_type": "code",
   "execution_count": null,
   "id": "6a5dd33c",
   "metadata": {
    "execution": {
     "iopub.execute_input": "2022-07-04T00:13:15.534091Z",
     "iopub.status.busy": "2022-07-04T00:13:15.533610Z",
     "iopub.status.idle": "2022-07-04T00:13:15.541678Z",
     "shell.execute_reply": "2022-07-04T00:13:15.539910Z"
    },
    "papermill": {
     "duration": 0.062558,
     "end_time": "2022-07-04T00:13:15.544101",
     "exception": false,
     "start_time": "2022-07-04T00:13:15.481543",
     "status": "completed"
    },
    "tags": []
   },
   "outputs": [],
   "source": [
    "from sklearn.metrics import accuracy_score\n",
    "print(\"Accuracy is \", accuracy_score(y_test, predict))"
   ]
  },
  {
   "cell_type": "code",
   "execution_count": null,
   "id": "5e88c8e4",
   "metadata": {
    "execution": {
     "iopub.execute_input": "2022-07-04T00:13:15.647895Z",
     "iopub.status.busy": "2022-07-04T00:13:15.647176Z",
     "iopub.status.idle": "2022-07-04T00:13:15.674416Z",
     "shell.execute_reply": "2022-07-04T00:13:15.672988Z"
    },
    "papermill": {
     "duration": 0.082002,
     "end_time": "2022-07-04T00:13:15.676889",
     "exception": false,
     "start_time": "2022-07-04T00:13:15.594887",
     "status": "completed"
    },
    "tags": []
   },
   "outputs": [],
   "source": [
    "from sklearn.metrics import classification_report\n",
    "print(\"Accuracy is \", classification_report(y_test, predict))"
   ]
  },
  {
   "cell_type": "markdown",
   "id": "73894093",
   "metadata": {
    "papermill": {
     "duration": 0.050539,
     "end_time": "2022-07-04T00:13:15.778466",
     "exception": false,
     "start_time": "2022-07-04T00:13:15.727927",
     "status": "completed"
    },
    "tags": []
   },
   "source": [
    "### Some Testing"
   ]
  },
  {
   "cell_type": "code",
   "execution_count": null,
   "id": "ed024416",
   "metadata": {
    "execution": {
     "iopub.execute_input": "2022-07-04T00:13:15.883120Z",
     "iopub.status.busy": "2022-07-04T00:13:15.882697Z",
     "iopub.status.idle": "2022-07-04T00:13:15.891598Z",
     "shell.execute_reply": "2022-07-04T00:13:15.890442Z"
    },
    "papermill": {
     "duration": 0.064247,
     "end_time": "2022-07-04T00:13:15.893737",
     "exception": false,
     "start_time": "2022-07-04T00:13:15.829490",
     "status": "completed"
    },
    "tags": []
   },
   "outputs": [],
   "source": [
    "text = [\"I liked the movie. It was great\"]\n",
    "text_vec = vec.transform(text)\n",
    "classifier.predict(text_vec)"
   ]
  },
  {
   "cell_type": "code",
   "execution_count": null,
   "id": "18fc3bb1",
   "metadata": {
    "execution": {
     "iopub.execute_input": "2022-07-04T00:13:15.998219Z",
     "iopub.status.busy": "2022-07-04T00:13:15.997787Z",
     "iopub.status.idle": "2022-07-04T00:13:16.003974Z",
     "shell.execute_reply": "2022-07-04T00:13:16.003195Z"
    },
    "papermill": {
     "duration": 0.060361,
     "end_time": "2022-07-04T00:13:16.006023",
     "exception": false,
     "start_time": "2022-07-04T00:13:15.945662",
     "status": "completed"
    },
    "tags": []
   },
   "outputs": [],
   "source": [
    "le.inverse_transform([1])"
   ]
  },
  {
   "cell_type": "code",
   "execution_count": null,
   "id": "b4333a1c",
   "metadata": {
    "execution": {
     "iopub.execute_input": "2022-07-04T00:13:16.111174Z",
     "iopub.status.busy": "2022-07-04T00:13:16.110440Z",
     "iopub.status.idle": "2022-07-04T00:13:16.119192Z",
     "shell.execute_reply": "2022-07-04T00:13:16.118188Z"
    },
    "papermill": {
     "duration": 0.064158,
     "end_time": "2022-07-04T00:13:16.121418",
     "exception": false,
     "start_time": "2022-07-04T00:13:16.057260",
     "status": "completed"
    },
    "tags": []
   },
   "outputs": [],
   "source": [
    "text = [\"Movie was worse\"]\n",
    "text_vec = vec.transform(text)\n",
    "classifier.predict(text_vec)"
   ]
  },
  {
   "cell_type": "code",
   "execution_count": null,
   "id": "e47d9b7e",
   "metadata": {
    "execution": {
     "iopub.execute_input": "2022-07-04T00:13:16.227191Z",
     "iopub.status.busy": "2022-07-04T00:13:16.226515Z",
     "iopub.status.idle": "2022-07-04T00:13:16.232779Z",
     "shell.execute_reply": "2022-07-04T00:13:16.231991Z"
    },
    "papermill": {
     "duration": 0.061218,
     "end_time": "2022-07-04T00:13:16.235059",
     "exception": false,
     "start_time": "2022-07-04T00:13:16.173841",
     "status": "completed"
    },
    "tags": []
   },
   "outputs": [],
   "source": [
    "le.inverse_transform([0])"
   ]
  },
  {
   "cell_type": "markdown",
   "id": "a0942ddf",
   "metadata": {
    "papermill": {
     "duration": 0.050686,
     "end_time": "2022-07-04T00:13:16.337325",
     "exception": false,
     "start_time": "2022-07-04T00:13:16.286639",
     "status": "completed"
    },
    "tags": []
   },
   "source": [
    "### Save Model and Vector"
   ]
  },
  {
   "cell_type": "code",
   "execution_count": null,
   "id": "83953314",
   "metadata": {
    "execution": {
     "iopub.execute_input": "2022-07-04T00:13:16.440978Z",
     "iopub.status.busy": "2022-07-04T00:13:16.440222Z",
     "iopub.status.idle": "2022-07-04T00:13:18.436069Z",
     "shell.execute_reply": "2022-07-04T00:13:18.434939Z"
    },
    "papermill": {
     "duration": 2.050544,
     "end_time": "2022-07-04T00:13:18.438655",
     "exception": false,
     "start_time": "2022-07-04T00:13:16.388111",
     "status": "completed"
    },
    "tags": []
   },
   "outputs": [],
   "source": [
    "from joblib import dump\n",
    "dump(vec, 'vectors.joblib')\n",
    "dump(classifier, 'classifier.joblib')\n"
   ]
  },
  {
   "cell_type": "code",
   "execution_count": null,
   "id": "800586b8",
   "metadata": {
    "papermill": {
     "duration": 0.050968,
     "end_time": "2022-07-04T00:13:18.542194",
     "exception": false,
     "start_time": "2022-07-04T00:13:18.491226",
     "status": "completed"
    },
    "tags": []
   },
   "outputs": [],
   "source": []
  },
  {
   "cell_type": "code",
   "execution_count": null,
   "id": "fd67d2c7",
   "metadata": {
    "papermill": {
     "duration": 0.051878,
     "end_time": "2022-07-04T00:13:18.645400",
     "exception": false,
     "start_time": "2022-07-04T00:13:18.593522",
     "status": "completed"
    },
    "tags": []
   },
   "outputs": [],
   "source": []
  },
  {
   "cell_type": "code",
   "execution_count": null,
   "id": "cbbc89a4",
   "metadata": {
    "papermill": {
     "duration": 0.052011,
     "end_time": "2022-07-04T00:13:18.748399",
     "exception": false,
     "start_time": "2022-07-04T00:13:18.696388",
     "status": "completed"
    },
    "tags": []
   },
   "outputs": [],
   "source": []
  }
 ],
 "metadata": {
  "kernelspec": {
   "display_name": "Python 3",
   "language": "python",
   "name": "python3"
  },
  "language_info": {
   "codemirror_mode": {
    "name": "ipython",
    "version": 3
   },
   "file_extension": ".py",
   "mimetype": "text/x-python",
   "name": "python",
   "nbconvert_exporter": "python",
   "pygments_lexer": "ipython3",
   "version": "3.8.5"
  },
  "papermill": {
   "default_parameters": {},
   "duration": 88.305111,
   "end_time": "2022-07-04T00:13:19.925401",
   "environment_variables": {},
   "exception": null,
   "input_path": "__notebook__.ipynb",
   "output_path": "__notebook__.ipynb",
   "parameters": {},
   "start_time": "2022-07-04T00:11:51.620290",
   "version": "2.3.4"
  }
 },
 "nbformat": 4,
 "nbformat_minor": 5
}
